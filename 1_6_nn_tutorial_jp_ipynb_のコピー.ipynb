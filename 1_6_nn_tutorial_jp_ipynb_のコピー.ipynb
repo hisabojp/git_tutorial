{
  "nbformat": 4,
  "nbformat_minor": 0,
  "metadata": {
    "colab": {
      "provenance": [],
      "include_colab_link": true
    },
    "kernelspec": {
      "name": "python3",
      "display_name": "Python 3",
      "language": "python"
    },
    "accelerator": "GPU"
  },
  "cells": [
    {
      "cell_type": "markdown",
      "metadata": {
        "id": "view-in-github",
        "colab_type": "text"
      },
      "source": [
        "<a href=\"https://colab.research.google.com/github/hisabojp/git_tutorial/blob/master/1_6_nn_tutorial_jp_ipynb_%E3%81%AE%E3%82%B3%E3%83%94%E3%83%BC.ipynb\" target=\"_parent\"><img src=\"https://colab.research.google.com/assets/colab-badge.svg\" alt=\"Open In Colab\"/></a>"
      ]
    },
    {
      "cell_type": "markdown",
      "metadata": {
        "id": "1hW5dfRTTU_F"
      },
      "source": [
        "「torch.nnを用いたディープラーニングモデルの実装方法」\n",
        "===============================================================\n",
        "【原題】What is torch.nn really?\n",
        "\n",
        "【原著】[fast.ai](https://www.fast.ai) よりJeremy Howard（謝辞： Rachel Thomas、Francisco Ingham）\n",
        "\n",
        "【元URL】https://pytorch.org/tutorials/beginner/nn_tutorial.html\n",
        "\n",
        "【翻訳】電通国際情報サービスISID AIトランスフォーメーションセンター　徳原 光\n",
        "\n",
        "【日付】2020年11月24日\n",
        "\n",
        "【チュトーリアル概要】\n",
        "\n",
        "手書き文字のデータセットである「MNISTデータセット」に対して、ニューラルネットワークの分類システムを実装しながら、torch.nn、torch.optim、 Dataset、DataLoaderといったPyTorchの各モジュール、クラスの役割を説明し、実装方法と、ディープラーニングモデルの訓練の流れについて解説します。\n",
        "\n",
        "\n",
        "---"
      ]
    },
    {
      "cell_type": "markdown",
      "metadata": {
        "id": "OFznslfT_Yw3"
      },
      "source": [
        "日本語訳注：\n",
        "\n",
        "Google ColaboratoryでGPUモードにするには、上部メニューの「ランタイム」から「ランタイムタイプを変更」を選択し、ハードウェアアクセラレーターをGPUにします。\n",
        "\n",
        "本ファイルは始めからGPUモードになっています。\n",
        "\n",
        "---"
      ]
    },
    {
      "cell_type": "markdown",
      "metadata": {
        "id": "4Le3O4DhW5dN"
      },
      "source": [
        "PyTorchには、ニューラルネットワークの作成と訓練を支援するように、綿密に設計されたモジュールやクラスとして、[torch.nn](https://pytorch.org/docs/stable/nn.html)、[torch.optim](https://pytorch.org/docs/stable/optim.html)、[Dataset](https://pytorch.org/docs/stable/data.html?highlight=dataset#torch.utils.data.Dataset)、[DataLoader](https://pytorch.org/docs/stable/data.html?highlight=dataloader#torch.utils.data.DataLoader)などが用意されています。\n"
      ]
    },
    {
      "cell_type": "markdown",
      "metadata": {
        "id": "Y5U3NCdDaYfY"
      },
      "source": [
        "これらのモジュールの性能を十分に発揮し、問題に合わせてカスタマイズするためには、これらが実際にどのような処理を行っているのか正確に理解する必要があります。\n",
        "\n",
        "その理解を深めるために、まずはこれら機能を利用せず、最も基本的なPyTorch Tensorのみを使用して、MNISTデータセットに対し、シンプルなニューラルネットワークを訓練します。\n",
        "\n",
        "\n",
        "そして、``torch.nn``、``torch.optim``、 ``Dataset``、``DataLoader``の順に各モジュールを追加していき、それぞれが実際に何をしているのか、さらにコードをより簡潔かつ柔軟にするためにどのような役目を果たしているのかを確認していきます。"
      ]
    },
    {
      "cell_type": "markdown",
      "metadata": {
        "id": "WUFpbL4ftQcH"
      },
      "source": [
        "本チュートリアルは、実行環境にPyTorch がインストールされていて、学習者が基本的なTensor(テンソル)の扱いに慣れていることを前提としています。\n",
        "\n",
        "（Numpy配列での演算に慣れている方は、PyTorch TensorをNumpyと同様の操作で利用することができます。）"
      ]
    },
    {
      "cell_type": "markdown",
      "metadata": {
        "id": "Dywg3yIOStWj"
      },
      "source": [
        "MNISTデータの用意\n",
        "----------------\n",
        "\n",
        "手書きの数字の白黒画像（0から9まで）で構成された古典的なデータセットである、[MNISTデータセット](vue-js-etude-1.firebaseio.com/person.json)を使用します。\n",
        "\n",
        "ファイルのパスを扱うために、[pathlib](https://docs.python.org/3/library/pathlib.html) （Python 3標準ライブラリの一部）を使用し、[requests](https://requests.readthedocs.io/en/master/)を用いてデータセットをダウンロードします。\n",
        "\n",
        "（日本語訳注：requestsはURLで指定した宛先とHTTPによる通信を行うためのPythonライブラリです）\n",
        "\n",
        "<br>\n",
        "\n",
        "モジュールは使用する際にインポートするように記述しますので、各時点でどのモジュールが使用されているかを正確に確認することができます。\n",
        "\n",
        "<br>\n",
        "\n",
        "**※日本語訳注**：本チュートリアルの翻訳時上記のURLからデータセットをダウンロードすることができないという現象が発生しています（2020年11月24日）。\n",
        "代替手段を5セルほど下に記載します。\n"
      ]
    },
    {
      "cell_type": "code",
      "metadata": {
        "id": "81HezuF9StWi"
      },
      "source": [
        "%matplotlib inline"
      ],
      "execution_count": null,
      "outputs": []
    },
    {
      "cell_type": "code",
      "metadata": {
        "id": "KY_NpyqIStWj"
      },
      "source": [
        "from pathlib import Path\n",
        "import requests\n",
        "\n",
        "DATA_PATH = Path(\"data\")\n",
        "PATH = DATA_PATH / \"mnist\"\n",
        "\n",
        "PATH.mkdir(parents=True, exist_ok=True)\n",
        "\n",
        "URL = \"https://github.com/pytorch/tutorials/raw/master/_static/\"\n",
        "FILENAME = \"mnist.pkl.gz\"\n",
        "\n",
        "# このコードだとファイルのダウンロードに失敗する\n",
        "# if not (PATH / FILENAME).exists():\n",
        "#         content = requests.get(URL + FILENAME).content\n",
        "#         (PATH / FILENAME).open(\"wb\").write(content)\n",
        "\n",
        "# ファイルのダウンロード\n",
        "URL = \"https://github.com/pytorch/tutorials/raw/main/_static/mnist.pkl.gz\"\n",
        "response = requests.get(URL)\n",
        "with open((PATH / FILENAME).as_posix(), \"wb\") as f:\n",
        "    f.write(response.content)"
      ],
      "execution_count": null,
      "outputs": []
    },
    {
      "cell_type": "markdown",
      "metadata": {
        "id": "ijJnnqGeStWj"
      },
      "source": [
        "このデータセットはNumpy配列と同じ形式であり、データを連結して格納するためにPickleを利用しています。\n",
        "\n",
        "（日本語訳注：PickleはPythonの標準ライブラリで、オブジェクトを連結し、保存したり、保存したファイルを読み込んだりする用途で用いられます）"
      ]
    },
    {
      "cell_type": "code",
      "metadata": {
        "id": "IBsWgeDZStWj"
      },
      "source": [
        "\n",
        "import pickle\n",
        "import gzip\n",
        "\n",
        "with gzip.open((PATH / FILENAME).as_posix(), \"rb\") as f:\n",
        "        ((x_train, y_train), (x_valid, y_valid), _) = pickle.load(f, encoding=\"latin-1\")\n"
      ],
      "execution_count": null,
      "outputs": []
    },
    {
      "cell_type": "markdown",
      "metadata": {
        "id": "eFKEZ-x-StWj"
      },
      "source": [
        "それぞれの画像のサイズは 28 x 28 ですが、1次元に平坦化されて要素数が784 (= 28×28)の数値配列として保存されています。\n",
        "\n",
        "まずデータを2次元の画像に変換し、画面に表示してみましょう。\n"
      ]
    },
    {
      "cell_type": "code",
      "metadata": {
        "id": "TBTJq0xCStWj",
        "colab": {
          "base_uri": "https://localhost:8080/",
          "height": 449
        },
        "outputId": "b0ae362b-78b6-4cd3-9835-f67489bbf267"
      },
      "source": [
        "from matplotlib import pyplot\n",
        "import numpy as np\n",
        "\n",
        "pyplot.imshow(x_train[0].reshape((28, 28)), cmap=\"gray\")\n",
        "print(x_train.shape)"
      ],
      "execution_count": null,
      "outputs": [
        {
          "output_type": "stream",
          "name": "stdout",
          "text": [
            "(50000, 784)\n"
          ]
        },
        {
          "output_type": "display_data",
          "data": {
            "text/plain": [
              "<Figure size 640x480 with 1 Axes>"
            ],
            "image/png": "[encoded data removed]"
          },
          "metadata": {}
        }
      ]
    },
    {
      "cell_type": "markdown",
      "metadata": {
        "id": "K3rKet71StWj"
      },
      "source": [
        "PyTorchはNumpy配列ではなく``torch.tensor``を利用するので、データを変換する必要があります。\n",
        "\n"
      ]
    },
    {
      "cell_type": "code",
      "metadata": {
        "id": "z7Xxdf1IStWj",
        "colab": {
          "base_uri": "https://localhost:8080/"
        },
        "outputId": "befc2a3e-b290-464a-ee76-7f62e30b42f8"
      },
      "source": [
        "import torch\n",
        "\n",
        "x_train, y_train, x_valid, y_valid = map(\n",
        "    torch.tensor, (x_train, y_train, x_valid, y_valid)\n",
        ")\n",
        "n, c = x_train.shape\n",
        "x_train, x_train.shape, y_train.min(), y_train.max()\n",
        "print(x_train, y_train)\n",
        "print(x_train.shape)\n",
        "print(y_train.min(), y_train.max())"
      ],
      "execution_count": null,
      "outputs": [
        {
          "output_type": "stream",
          "name": "stdout",
          "text": [
            "tensor([[0., 0., 0.,  ..., 0., 0., 0.],\n",
            "        [0., 0., 0.,  ..., 0., 0., 0.],\n",
            "        [0., 0., 0.,  ..., 0., 0., 0.],\n",
            "        ...,\n",
            "        [0., 0., 0.,  ..., 0., 0., 0.],\n",
            "        [0., 0., 0.,  ..., 0., 0., 0.],\n",
            "        [0., 0., 0.,  ..., 0., 0., 0.]]) tensor([5, 0, 4,  ..., 8, 4, 8])\n",
            "torch.Size([50000, 784])\n",
            "tensor(0) tensor(9)\n"
          ]
        }
      ]
    },
    {
      "cell_type": "markdown",
      "metadata": {
        "id": "tztZfrLFStWj"
      },
      "source": [
        " (torch.nnなしで）ニューラルネットワークを構築\n",
        "-----------------------------------\n",
        "\n",
        "まず、PyTorch Tensorによる演算以外は何も利用せずに、ニューラルネットワークのモデルを実装してみましょう。\n",
        "\n",
        "ここからは、ニューラルネットワークの基本知識を前提として解説します。\n",
        "\n",
        " (本チュートリアルの前提知識は、[fast.aiのコース](https://course.fast.ai/)で学習することができます。)\n",
        "\n"
      ]
    },
    {
      "cell_type": "markdown",
      "metadata": {
        "id": "uZ5RPjCpCtm0"
      },
      "source": [
        "PyTorchには、各要素が乱数や0で初期化されたTensorを生成するメソッドが用意されています。\n",
        "\n",
        "これらで生成したテンソルを単純な線形モデルの重みとバイアスを実装する際に利用することができます。\n",
        "\n",
        "生成されたものは普通のTensorですが、PyTorchに対して勾配計算が必要であることを伝える、特別な特徴も保有しています。\n",
        "\n",
        "この特徴によってPyTorchはTensorに行われたすべての演算を記録し、誤差逆伝播中に自動的に勾配を計算できます。"
      ]
    },
    {
      "cell_type": "markdown",
      "metadata": {
        "id": "XzNPEDbzCwYY"
      },
      "source": [
        "重みに対しては、初期化作業に対して勾配が追跡されることを防ぐために、**初期化した後に**``requires_grad``を設定します。\n",
        "\n",
        "(注意：PyTorchにおいて、末尾の``_``は、操作がインプレース、すなわち上書き実行されることを意味します。)"
      ]
    },
    {
      "cell_type": "markdown",
      "metadata": {
        "id": "mFdiNR0xIB9u"
      },
      "source": [
        "**注釈**\n",
        "\n",
        "重みの初期化は[Xavierの初期値](http://proceedings.mlr.press/v9/glorot10a/glorot10a.pdf)(1/sqrt(n)を掛ける)を使用しています。\n",
        "\n",
        "（日本語訳注：Xavierの初期値では、乱数で決定した値に、その層が持つノードの数nの平方根の逆数を掛けた値を各々のパラメータの初期値として使用します）"
      ]
    },
    {
      "cell_type": "code",
      "metadata": {
        "id": "9z912Se7StWj"
      },
      "source": [
        "import math\n",
        "\n",
        "weights = torch.randn(784, 10) / math.sqrt(784)\n",
        "weights.requires_grad_()\n",
        "bias = torch.zeros(10, requires_grad=True)"
      ],
      "execution_count": null,
      "outputs": []
    },
    {
      "cell_type": "markdown",
      "metadata": {
        "id": "WDsp2OjgStWj"
      },
      "source": [
        "PyTorchが持つ勾配の自動計算機能により、Pythonの標準的な関数（または呼び出し可能なオブジェクト）をモデルとして利用することができます。\n",
        "\n",
        "それでは、シンプルな線形モデルを作成するために、単純な行列の乗算とブロードキャストを使った加算を定義してみましょう。\n",
        "\n",
        "さらに、活性化関数も必要になるので、``log_softmax``関数を定義して使用します。\n",
        "\n",
        "<br>\n",
        "\n",
        "PyTorchでは、たくさんの損失関数や活性化関数といった関数があらかじめ用意されていますが、Pythonのコードによって簡単にオリジナルな関数を定義できることも覚えておいてください。\n",
        "\n",
        "\n",
        "PyTorchは独自に定義された関数をもとに高速にGPUやベクトル化されたCPUコードを自動で生成します。\n",
        "\n"
      ]
    },
    {
      "cell_type": "code",
      "metadata": {
        "id": "Vq9zOhi9StWj"
      },
      "source": [
        "def log_softmax(x):\n",
        "    return x - x.exp().sum(-1).log().unsqueeze(-1)\n",
        "\n",
        "def model(xb):\n",
        "    return log_softmax(xb @ weights + bias)"
      ],
      "execution_count": null,
      "outputs": []
    },
    {
      "cell_type": "markdown",
      "metadata": {
        "id": "q6jFX2ebStWj"
      },
      "source": [
        "上記のコードで、``@``は行列積を表しています。\n",
        "\n",
        "一つのバッチデータ（この場合は64枚の画像）に対して、各関数が実行されることになります。\n",
        "\n",
        "\n",
        "\n"
      ]
    },
    {
      "cell_type": "markdown",
      "metadata": {
        "id": "DInySIWDUaIq"
      },
      "source": [
        "以下のコードは、順伝播の経路を表していますが、乱数で定義された重みをそのまま使用しているので、予測値はランダムな結果よりも優れたものは得られないことに注意してください。"
      ]
    },
    {
      "cell_type": "code",
      "metadata": {
        "id": "mEAQTU8QStWj",
        "colab": {
          "base_uri": "https://localhost:8080/"
        },
        "outputId": "20a8caad-a56e-48a8-8ba6-b45456a15052"
      },
      "source": [
        "bs = 64  # batch size\n",
        "\n",
        "xb = x_train[0:bs]  # a mini-batch from x\n",
        "preds = model(xb)  # predictions\n",
        "preds[0], preds.shape\n",
        "print(preds[0], preds.shape)"
      ],
      "execution_count": null,
      "outputs": [
        {
          "output_type": "stream",
          "name": "stdout",
          "text": [
            "tensor([-2.5846, -2.2352, -2.6326, -2.0638, -2.0107, -2.8734, -2.6340, -2.2946,\n",
            "        -2.1802, -1.9467], grad_fn=<SelectBackward0>) torch.Size([64, 10])\n"
          ]
        }
      ]
    },
    {
      "cell_type": "markdown",
      "metadata": {
        "id": "Bf8VqHVWStWj"
      },
      "source": [
        "このようにTensor変数``preds``には、値だけではなく勾配情報も含まれていて、誤差逆伝播を行う際に利用することができます。\n",
        "\n"
      ]
    },
    {
      "cell_type": "markdown",
      "metadata": {
        "id": "5rlhSyP9japG"
      },
      "source": [
        "損失関数として、負の対数尤度を出力する関数（`nll`関数）を実装してみましょう（ここでも標準的なPythonのコードを用います）。\n",
        "\n"
      ]
    },
    {
      "cell_type": "code",
      "metadata": {
        "id": "IgbwiNQGStWj"
      },
      "source": [
        "def nll(input, target):\n",
        "    return -input[range(target.shape[0]), target].mean()\n",
        "\n",
        "loss_func = nll"
      ],
      "execution_count": null,
      "outputs": []
    },
    {
      "cell_type": "markdown",
      "metadata": {
        "id": "DimpzVgFStWj"
      },
      "source": [
        "先ほど実装したランダムなモデルで損失の値を確認してみましょう。\n",
        "\n",
        "モデルが改善されていることは、誤差逆伝播を行った後に確認することができます。"
      ]
    },
    {
      "cell_type": "code",
      "metadata": {
        "id": "gpC_vHH_StWj",
        "colab": {
          "base_uri": "https://localhost:8080/"
        },
        "outputId": "bcfb7059-dece-4522-dd31-2f7c66842836"
      },
      "source": [
        "yb = y_train[0:bs]\n",
        "print(loss_func(preds, yb))"
      ],
      "execution_count": null,
      "outputs": [
        {
          "output_type": "stream",
          "name": "stdout",
          "text": [
            "tensor(2.3411, grad_fn=<NegBackward0>)\n"
          ]
        }
      ]
    },
    {
      "cell_type": "markdown",
      "metadata": {
        "id": "e5d_B6JkStWj"
      },
      "source": [
        "モデルの予測精度を計算する関数も実装しておきましょう。\n",
        "\n",
        "それぞれの予測において、出力が最大となった要素のラベルが正解のラベルと一致すれば、予測が正しかったことになります。\n",
        "\n"
      ]
    },
    {
      "cell_type": "markdown",
      "metadata": {
        "id": "uDrhyUfqqvgY"
      },
      "source": [
        "（日本語訳注）：0から9までの手書き文字を予測する場合、モデルから出力されるTensorは10種類の値を持ち、それぞれの値は数字の0から順に対応付けられています。\n",
        "\n",
        "<br>\n",
        "\n",
        "入力した画像が9を表していた場合、出力されたTensorが持つ最後（10番目）の値が最大であった時、モデルが正しく画像から対応する数字を予測したと言えます。"
      ]
    },
    {
      "cell_type": "code",
      "metadata": {
        "id": "b8WxO8-fStWj"
      },
      "source": [
        "def accuracy(out, yb):\n",
        "    preds = torch.argmax(out, dim=1)\n",
        "    return (preds == yb).float().mean()"
      ],
      "execution_count": null,
      "outputs": []
    },
    {
      "cell_type": "markdown",
      "metadata": {
        "id": "eD8MNFyjStWj"
      },
      "source": [
        "ランダムなモデルの精度を確認して、損失が減少すると予測精度が改善されるのか確認してみます。"
      ]
    },
    {
      "cell_type": "code",
      "metadata": {
        "id": "Xl2ysmGaStWj",
        "colab": {
          "base_uri": "https://localhost:8080/"
        },
        "outputId": "e9678615-5516-4504-d45b-de081ba08b68"
      },
      "source": [
        "print(accuracy(preds, yb))"
      ],
      "execution_count": null,
      "outputs": [
        {
          "output_type": "stream",
          "text": [
            "tensor(0.0156)\n"
          ],
          "name": "stdout"
        }
      ]
    },
    {
      "cell_type": "markdown",
      "metadata": {
        "id": "7mjUmeFWryEc"
      },
      "source": [
        "これで、学習を繰り返し行う準備が整いました。\n",
        "\n",
        "それでは次に、イテレーションごとに次の手順を実施します。\n",
        "\n"
      ]
    },
    {
      "cell_type": "markdown",
      "metadata": {
        "id": "8Oz7-gQIsfwg"
      },
      "source": [
        "- データのミニバッチを``bs``（バッチサイズ）の大きさで選択する\n",
        "- モデルを用いて予測を行う\n",
        "- 損失を計算する\n",
        "- ``loss.backward() ``はモデルの勾配を更新します。この場合では重みとバイアスの勾配を算出しています。"
      ]
    },
    {
      "cell_type": "markdown",
      "metadata": {
        "id": "EG2GgH9xt9Px"
      },
      "source": [
        "そして、これらの勾配を利用して重みとバイアスを更新します。\n",
        "\n",
        "更新処理は、勾配の計算に更新処理が記録されることを防ぐために、コンテキストマネージャである``torch.no_grad() ``のwithブロック内で実行します。\n",
        "\n",
        "PyTorch の Autograd がどのように操作を記録するかについて、詳細を学びたい方は[こちら](https://pytorch.org/docs/stable/notes/autograd.html)をご覧ください。\n"
      ]
    },
    {
      "cell_type": "markdown",
      "metadata": {
        "id": "nB1ySBOVGqla"
      },
      "source": [
        "さらに、次の訓練の準備をするために、勾配をゼロに設定する必要があります。\n",
        "\n",
        "そうしなければ、実行したこれまでの操作に対して勾配が累積されて記録されてしまいます（つまり、``loss.backward()``は既存の勾配を、新しく算出したものに上書きするのでなく、すでに保存されているものに加算しています）。\n"
      ]
    },
    {
      "cell_type": "markdown",
      "metadata": {
        "id": "RZxqqmVB7GLD"
      },
      "source": [
        "**ポイント**\n",
        "\n",
        "下記のコードの``set_trace()``のコメントアウトを解除することで、Pythonに搭載されている標準デバッガを使用して各ステップごとの変数の値を確認することができます。"
      ]
    },
    {
      "cell_type": "code",
      "metadata": {
        "id": "2oG5mVa1StWj"
      },
      "source": [
        "from IPython.core.debugger import set_trace\n",
        "\n",
        "lr = 0.05  # learning rate\n",
        "epochs = 10  # how many epochs to train for\n",
        "\n",
        "for epoch in range(epochs):\n",
        "    for i in range((n - 1) // bs + 1):\n",
        "        # set_trace()\n",
        "        start_i = i * bs\n",
        "        end_i = start_i + bs\n",
        "        xb = x_train[start_i:end_i]\n",
        "        yb = y_train[start_i:end_i]\n",
        "        pred = model(xb)\n",
        "        loss = loss_func(pred, yb)\n",
        "\n",
        "        loss.backward()\n",
        "        with torch.no_grad():\n",
        "            weights -= weights.grad * lr\n",
        "            bias -= bias.grad * lr\n",
        "            weights.grad.zero_()\n",
        "            bias.grad.zero_()"
      ],
      "execution_count": null,
      "outputs": []
    },
    {
      "cell_type": "markdown",
      "metadata": {
        "id": "l-TcmkRFStWj"
      },
      "source": [
        "これで、最小限の大きさのニューラルネットワークをスクラッチで実装し訓練することに成功しました（このケースでは、隠れ層がないので単なるロジスティクス回帰になります）。\n",
        "\n",
        "では、モデルの損失と精度を算出して、その前に得た結果と比較してみましょう。\n",
        "\n",
        "損失は減少し、正解率が向上すると予想しましたが、実際にそうなることが見てとれると思います。"
      ]
    },
    {
      "cell_type": "code",
      "metadata": {
        "id": "ohuDJtTyStWj",
        "colab": {
          "base_uri": "https://localhost:8080/"
        },
        "outputId": "bca6bcbb-d111-47e9-c957-3ec93c209341"
      },
      "source": [
        "print(loss_func(model(xb), yb), accuracy(model(xb), yb))"
      ],
      "execution_count": null,
      "outputs": [
        {
          "output_type": "stream",
          "name": "stdout",
          "text": [
            "tensor(0.3694, grad_fn=<NegBackward0>) tensor(0.8750)\n"
          ]
        }
      ]
    },
    {
      "cell_type": "markdown",
      "metadata": {
        "id": "WeQl9uv-StWj"
      },
      "source": [
        "torch.nn.functionalを利用\n",
        "------------------------------\n",
        "\n",
        "それでは、PyTorchの``nn``クラスの利点を利用してコードをリファクタリングすることで、これまで実装した内容と同じモデルを簡潔かつ柔軟なコードで実装したいと思います。\n",
        "\n",
        "ここから各ステップにおいて、コードをより短く、分かりやすく、そして柔軟に記述していきます。"
      ]
    },
    {
      "cell_type": "markdown",
      "metadata": {
        "id": "0lHnnqpw_YDB"
      },
      "source": [
        "簡単に行える最初のステップとして、手書きの活性化関数と損失関数を``torch.nn.functional``のものに置き換えることでコードをより簡潔なものにします。\n",
        "\n",
        "（``torch.nn.functional``は慣例的に``F``という省略名をつけられてインポートすることになっています。）\n",
        "\n",
        "<br>\n",
        "\n",
        "このモジュールには``torch.nn``ライブラリのすべての関数が含まれています（クラス自体はその他のライブラリに含まれています）。\n",
        "\n",
        "他の損失関数や活性化関数と同様に、プーリング関数といったニューラルネットワークを実際に実装するにあたって、有用な関数もこの``torch.nn.functional``には含まれています。\n",
        "\n",
        "（畳み込み層や線形層の実装に利用できる関数も存在しますが、通常は他のライブラリのクラスを利用したほうがいいでしょう。）\n",
        "\n"
      ]
    },
    {
      "cell_type": "markdown",
      "metadata": {
        "id": "abx0ZpwMFOFp"
      },
      "source": [
        "負の対数尤度損失と対数ソフトマックス活性化を使用している場合は、PyTorchが持つこれらの関数を組み合わせた``F.cross_entropy``を使用することができます。\n",
        "\n",
        "つまり、活性化関数さえも定義しなくてもよいのです。"
      ]
    },
    {
      "cell_type": "code",
      "metadata": {
        "id": "IR2McLKPStWj"
      },
      "source": [
        "import torch.nn.functional as F\n",
        "\n",
        "loss_func = F.cross_entropy\n",
        "\n",
        "def model(xb):\n",
        "    return xb @ weights + bias\n"
      ],
      "execution_count": null,
      "outputs": []
    },
    {
      "cell_type": "markdown",
      "metadata": {
        "id": "ExYs920xStWj"
      },
      "source": [
        "``model``関数で、``log_softmax``を使用する必要がなくなったことに注意してください。\n",
        "\n",
        "loss_funcでの損失や正解率が変化していないことを確認してみましょう。"
      ]
    },
    {
      "cell_type": "code",
      "metadata": {
        "id": "kifR8zf8StWj",
        "colab": {
          "base_uri": "https://localhost:8080/"
        },
        "outputId": "1b6509d5-32ee-4199-9351-3ef750e2d215"
      },
      "source": [
        "print(loss_func(model(xb), yb), accuracy(model(xb), yb))"
      ],
      "execution_count": null,
      "outputs": [
        {
          "output_type": "stream",
          "name": "stdout",
          "text": [
            "tensor(0.3694, grad_fn=<NllLossBackward0>) tensor(0.8750)\n"
          ]
        }
      ]
    },
    {
      "cell_type": "markdown",
      "metadata": {
        "id": "7H6l9y3uStWj"
      },
      "source": [
        "nn.Moduleを使用したコードのリファクタリング\n",
        "-----------------------------\n",
        "次は``nn.Module``と``nn.Parameter``を利用して訓練の繰り返し処理の実装をよりシンプルで簡単なものにします。\n",
        "\n",
        "まずは、（状態を追跡可能なクラスである）``nn.Module``を継承しサブクラスを定義します。\n",
        "\n",
        "この場合は順伝播のために重みとバイアスとメソッドを保持するクラスを作成します。\n",
        "\n",
        "``nn.Module``には便利な属性変数やメソッド\n",
        "（``.parameters()``や``.zero_grad()``のような）が数多く含まれています。\n",
        "\n"
      ]
    },
    {
      "cell_type": "markdown",
      "metadata": {
        "id": "bqbH7hivJk7v"
      },
      "source": [
        "**注意**\n",
        "\n",
        "このnn.Module（頭文字が大文字のM）はPyTorch特有の概念で、これからよく使用することになります。\n",
        "\n",
        "Pythonにおける、インポートしたプログラムファイルを指すmodule（頭文字が小文字のm）の概念と混同しないように気をつけてください。\n"
      ]
    },
    {
      "cell_type": "code",
      "metadata": {
        "id": "haI8JSROStWj"
      },
      "source": [
        "from torch import nn\n",
        "\n",
        "class Mnist_Logistic(nn.Module):\n",
        "    def __init__(self):\n",
        "        super().__init__()\n",
        "        self.weights = nn.Parameter(torch.randn(784, 10) / math.sqrt(784))\n",
        "        self.bias = nn.Parameter(torch.zeros(10))\n",
        "\n",
        "    def forward(self, xb):\n",
        "        return xb @ self.weights + self.bias"
      ],
      "execution_count": null,
      "outputs": []
    },
    {
      "cell_type": "markdown",
      "metadata": {
        "id": "H27a0QTgStWj"
      },
      "source": [
        "関数を使う代わりに、今回はオブジェクトを使用するので、まずはmodelを定義したクラスからインスタンスを生成する必要があります。\n",
        "\n"
      ]
    },
    {
      "cell_type": "code",
      "metadata": {
        "id": "tAAA4DUaStWj"
      },
      "source": [
        "model = Mnist_Logistic()"
      ],
      "execution_count": null,
      "outputs": []
    },
    {
      "cell_type": "markdown",
      "metadata": {
        "id": "Q3-XtCyXStWj"
      },
      "source": [
        "モデルの定義と同様の方法で損失を計算することができます。\n",
        "\n",
        "``nn.Module``オブジェクトは、あたかも関数のように（呼び出し可能で）使用できます。\n",
        "\n",
        "その裏では、PyTorchが自動的に順伝播のメソッドを呼び出しています。\n",
        "\n"
      ]
    },
    {
      "cell_type": "code",
      "metadata": {
        "id": "xrYjqaKTStWk",
        "colab": {
          "base_uri": "https://localhost:8080/"
        },
        "outputId": "4fc41c45-1db8-435d-c8e0-218d8173af4e"
      },
      "source": [
        "print(loss_func(model(xb), yb))"
      ],
      "execution_count": null,
      "outputs": [
        {
          "output_type": "stream",
          "name": "stdout",
          "text": [
            "tensor(2.2527, grad_fn=<NllLossBackward0>)\n"
          ]
        }
      ]
    },
    {
      "cell_type": "markdown",
      "metadata": {
        "id": "Lyih4JFvOrVc"
      },
      "source": [
        "これまでは下記のコードのように、一つ一つの各パラメータの値を、変数名を記述することで更新し、それぞれの勾配を手動で0に初期化する必要がありました：\n",
        "\n"
      ]
    },
    {
      "cell_type": "markdown",
      "metadata": {
        "id": "dZ6_gM3MP7wP"
      },
      "source": [
        "\n",
        "\n",
        "```\n",
        "with torch.no_grad():\n",
        "    weights -= weights.grad * lr\n",
        "    bias -= bias.grad * lr\n",
        "    weights.grad.zero_()\n",
        "    bias.grad.zero_()\n",
        "```\n",
        "\n"
      ]
    },
    {
      "cell_type": "markdown",
      "metadata": {
        "id": "Y4YhLiZsQC5W"
      },
      "source": [
        "``nn.Module``を継承し、``model.parameters()``と``model.zero_grad()``を利用することで（どちらもPyTorchの``nn.Module``で定義されています）、これらの処理をより簡潔に実装することが可能です。\n",
        "\n",
        "特に複雑なモデルの場合では、更新処理の際にパラメータが抜けてしまうといった間違いを防止できます："
      ]
    },
    {
      "cell_type": "markdown",
      "metadata": {
        "id": "W1Fu8C3hRuRE"
      },
      "source": [
        "\n",
        "\n",
        "```\n",
        "with torch.no_grad():\n",
        "    for p in model.parameters(): p -= p.grad * lr\n",
        "    model.zero_grad()\n",
        "```\n",
        "\n"
      ]
    },
    {
      "cell_type": "markdown",
      "metadata": {
        "id": "42m9gEgMRyTN"
      },
      "source": [
        "続いて、上記のパラメータ更新を含む訓練処理を、後ほど実行できるように``fit``関数として定義しておきます。"
      ]
    },
    {
      "cell_type": "code",
      "metadata": {
        "id": "ugbKrr24StWk"
      },
      "source": [
        "def fit():\n",
        "    for epoch in range(epochs):\n",
        "        for i in range((n - 1) // bs + 1):\n",
        "            start_i = i * bs\n",
        "            end_i = start_i + bs\n",
        "            xb = x_train[start_i:end_i]\n",
        "            yb = y_train[start_i:end_i]\n",
        "            pred = model(xb)\n",
        "            loss = loss_func(pred, yb)\n",
        "\n",
        "            loss.backward()\n",
        "            with torch.no_grad():\n",
        "                for p in model.parameters():\n",
        "                    p -= p.grad * lr\n",
        "                model.zero_grad()\n",
        "\n",
        "fit()"
      ],
      "execution_count": null,
      "outputs": []
    },
    {
      "cell_type": "markdown",
      "metadata": {
        "id": "JqMVcb9wStWk"
      },
      "source": [
        "損失が減ったことを再確認しましょう。\n"
      ]
    },
    {
      "cell_type": "code",
      "metadata": {
        "id": "ytrvlJDEStWk",
        "colab": {
          "base_uri": "https://localhost:8080/"
        },
        "outputId": "99831e08-8c09-43c1-95fb-b2039e0cd5d8"
      },
      "source": [
        "print(loss_func(model(xb), yb))"
      ],
      "execution_count": null,
      "outputs": [
        {
          "output_type": "stream",
          "name": "stdout",
          "text": [
            "tensor(0.3705, grad_fn=<NllLossBackward0>)\n"
          ]
        }
      ]
    },
    {
      "cell_type": "markdown",
      "metadata": {
        "id": "WE_AgcGSStWk"
      },
      "source": [
        "nn.Linearを使用したリファクタリング\n",
        "-------------------------\n",
        "\n",
        "引き続きコードのリファクタリングをしていきます。\n",
        "\n",
        "先ほど手動で``self.weights``と``self.bias``を定義して初期化し、``xb  @\n",
        "self.weights + self.bias``という演算処理を実装しましたが、その代わりに、これらのすべての機能を担うことのできるPyTorchの[**``nn.Linear``**](https://pytorch.org/docs/stable/nn.html#linear-layers)を使用します。\n",
        "\n",
        "Pytorchには様々な種類の定義済みレイヤーが存在し、多くの場合、これらの既成のレイヤー（モジュール）を使用することでコードを簡素化し、高速化することができます。\n",
        "\n"
      ]
    },
    {
      "cell_type": "code",
      "metadata": {
        "id": "aJN3eKAAStWk"
      },
      "source": [
        "class Mnist_Logistic(nn.Module):\n",
        "    def __init__(self):\n",
        "        super().__init__()\n",
        "        self.lin = nn.Linear(784, 10)\n",
        "\n",
        "    def forward(self, xb):\n",
        "        return self.lin(xb)"
      ],
      "execution_count": null,
      "outputs": []
    },
    {
      "cell_type": "markdown",
      "metadata": {
        "id": "6k76fmfMStWk"
      },
      "source": [
        "モデルをインスタンス化し、以前と同じ方法で損失を計算します：\n"
      ]
    },
    {
      "cell_type": "code",
      "metadata": {
        "id": "BPusK47zStWk",
        "colab": {
          "base_uri": "https://localhost:8080/"
        },
        "outputId": "3f29039f-2491-469e-ac99-94774fd856e3"
      },
      "source": [
        "model = Mnist_Logistic()\n",
        "print(loss_func(model(xb), yb))"
      ],
      "execution_count": null,
      "outputs": [
        {
          "output_type": "stream",
          "name": "stdout",
          "text": [
            "tensor(2.3794, grad_fn=<NllLossBackward0>)\n"
          ]
        }
      ]
    },
    {
      "cell_type": "markdown",
      "metadata": {
        "id": "U1GnRKYoStWk"
      },
      "source": [
        "これまでと同様に``fit``メソッドを使うことができます：\n",
        "\n"
      ]
    },
    {
      "cell_type": "code",
      "metadata": {
        "id": "Y0EGVFMnStWk",
        "colab": {
          "base_uri": "https://localhost:8080/"
        },
        "outputId": "815d723b-dc8b-478c-c9f2-1e07cbfa3a69"
      },
      "source": [
        "fit()\n",
        "\n",
        "print(loss_func(model(xb), yb))"
      ],
      "execution_count": null,
      "outputs": [
        {
          "output_type": "stream",
          "name": "stdout",
          "text": [
            "tensor(0.3601, grad_fn=<NllLossBackward0>)\n"
          ]
        }
      ]
    },
    {
      "cell_type": "markdown",
      "metadata": {
        "id": "c7tmkLAXStWk"
      },
      "source": [
        "optimを使用したリファクタリング\n",
        "------------------------------\n",
        "\n",
        "PyTorchには、様々な最適化アルゴリズムを持つパッケージである``torch.optim``も存在します。\n",
        "\n",
        "``step``メソッドを利用して各パラメータを更新するように実装します。\n",
        "\n",
        "``step``メソッドを用いることで、これまで手動で実装していたパラメータ更新（最適化）のステップを置き換えることができます。"
      ]
    },
    {
      "cell_type": "markdown",
      "metadata": {
        "id": "Jx4k95xNGyIr"
      },
      "source": [
        "\n",
        "\n",
        "```\n",
        "with torch.no_grad():\n",
        "    for p in model.parameters(): p -= p.grad * lr\n",
        "    model.zero_grad()\n",
        "```\n",
        "\n"
      ]
    },
    {
      "cell_type": "markdown",
      "metadata": {
        "id": "7jQwkaL7Henk"
      },
      "source": [
        "上記のコードの代わりに下記のコードを実行してください："
      ]
    },
    {
      "cell_type": "markdown",
      "metadata": {
        "id": "4eNx1TOXR0yb"
      },
      "source": [
        "\n",
        "\n",
        "```\n",
        "opt.step()\n",
        "opt.zero_grad()\n",
        "```\n",
        "\n"
      ]
    },
    {
      "cell_type": "markdown",
      "metadata": {
        "id": "F9L-xvsmR3z2"
      },
      "source": [
        "（ただし、次のミニバッチの勾配を計算する前に、勾配を0に初期化するoptim.zero_grad()を呼び出す必要があります。）"
      ]
    },
    {
      "cell_type": "code",
      "metadata": {
        "id": "VC7hp6f9StWk"
      },
      "source": [
        "from torch import optim"
      ],
      "execution_count": null,
      "outputs": []
    },
    {
      "cell_type": "markdown",
      "metadata": {
        "id": "RoXoO1cBStWk"
      },
      "source": [
        "ここでモデルとオプティマイザを作成するための関数を定義しておき、あとで再利用できるようにします。\n",
        "\n"
      ]
    },
    {
      "cell_type": "code",
      "metadata": {
        "id": "uE5ZsdPxStWk",
        "colab": {
          "base_uri": "https://localhost:8080/"
        },
        "outputId": "2c993be8-5b4b-4fd7-ac8f-d6d475a16c03"
      },
      "source": [
        "def get_model():\n",
        "    model = Mnist_Logistic()\n",
        "    return model, optim.SGD(model.parameters(), lr=lr)\n",
        "\n",
        "model, opt = get_model()\n",
        "print(loss_func(model(xb), yb))\n",
        "\n",
        "for epoch in range(epochs):\n",
        "    for i in range((n - 1) // bs + 1):\n",
        "        start_i = i * bs\n",
        "        end_i = start_i + bs\n",
        "        xb = x_train[start_i:end_i]\n",
        "        yb = y_train[start_i:end_i]\n",
        "        pred = model(xb)\n",
        "        loss = loss_func(pred, yb)\n",
        "\n",
        "        loss.backward()\n",
        "        opt.step()\n",
        "        opt.zero_grad()\n",
        "\n",
        "print(loss_func(model(xb), yb))"
      ],
      "execution_count": null,
      "outputs": [
        {
          "output_type": "stream",
          "name": "stdout",
          "text": [
            "tensor(2.3214, grad_fn=<NllLossBackward0>)\n",
            "tensor(0.3659, grad_fn=<NllLossBackward0>)\n"
          ]
        }
      ]
    },
    {
      "cell_type": "markdown",
      "metadata": {
        "id": "FSGL7SMfStWk"
      },
      "source": [
        "Datasetを利用したリファクタリング\n",
        "------------------------------\n",
        "\n",
        "\n"
      ]
    },
    {
      "cell_type": "markdown",
      "metadata": {
        "id": "tUYSCc-oIuSJ"
      },
      "source": [
        "PyTorchにはデータセットに関する抽象クラスも存在します。\n",
        "\n",
        "``__len__``関数（Pythonの標準の``len``関数によって呼び出される）と、渡されたインデックスに対応するデータを返す``__getitem__``関数を持つクラスであればどんなものでもDatasetクラスとして利用できます。\n",
        "\n",
        "[こちらのチュートリアル](https://pytorch.org/tutorials/beginner/data_loading_tutorial.html)では、Datasetのサブクラスとして独自の``FacialLandmarkDataset``クラス（顔の輪郭のデータセット）を実装する例を紹介しています。"
      ]
    },
    {
      "cell_type": "markdown",
      "metadata": {
        "id": "7hbfIGDTVSz7"
      },
      "source": [
        "PyTorchの[TensorDataset](https://pytorch.org/docs/stable/_modules/torch/utils/data/dataset.html#TensorDataset)はTensorをラップしています。\n",
        "\n",
        "（日本語訳注：クラスをラップするとは、新規に定義した別のクラスを通して間接的にラップされたクラスの機能を利用するために、ラップ対象のクラスを包むクラスを新規に定義し、新規クラス内で対象のクラスの操作を実装することを意味しています）\n",
        "\n",
        "\n"
      ]
    },
    {
      "cell_type": "markdown",
      "metadata": {
        "id": "9ypTqs2T1980"
      },
      "source": [
        "インデックスの長さと指定の仕方を定義することで、Tensorの一つ目の次元に沿って、繰り返し、インデックス付け、スライスを行う方法を提供します。\n",
        "\n",
        "（日本語訳注：DatasetがTensorの最初の次元をもとにデータの操作を行うのは、最初の次元が個々のデータのインデックス（何番目のデータなのか）を表しているためです。例えば、MNISTデータセットの場合は、1次元目がデータのインデックス、2次元目がx座標、3次元目がy座標になります）\n",
        "\n"
      ]
    },
    {
      "cell_type": "markdown",
      "metadata": {
        "id": "wKhWYjMv2RuX"
      },
      "source": [
        "これにより、訓練を行う際に、独立変数と従属変数の両方に同じ行でアクセスすることが容易になります。\n",
        "\n",
        "（日本語訳注：この例において独立変数とはモデルに入力する画像データxであり、従属変数はその画像に対応するラベルyのことを指します）\n"
      ]
    },
    {
      "cell_type": "code",
      "metadata": {
        "id": "dBPpzdhXStWk"
      },
      "source": [
        "from torch.utils.data import TensorDataset"
      ],
      "execution_count": null,
      "outputs": []
    },
    {
      "cell_type": "markdown",
      "metadata": {
        "id": "aVYTEUWAStWk"
      },
      "source": [
        "一つの``TensorDataset``のインスタンスを得る際には、引数に``x_train``と``y_train``の組を指定します。\n",
        "\n",
        "こうすることによって反復処理の際、一度の操作でデータのスライスを行えるようになります。"
      ]
    },
    {
      "cell_type": "code",
      "metadata": {
        "id": "C7UrhV9lStWk"
      },
      "source": [
        "train_ds = TensorDataset(x_train, y_train)"
      ],
      "execution_count": null,
      "outputs": []
    },
    {
      "cell_type": "markdown",
      "metadata": {
        "id": "EFsmkF4sStWk"
      },
      "source": [
        "これまでは、x と y の値をそれぞれミニバッチごとに取得しなければなりませんでした。:\n",
        "\n",
        "\n",
        "```\n",
        "xb = x_train[start_i:end_i]\n",
        "yb = y_train[start_i:end_i]\n",
        "```\n",
        "TensorDatasetを用いることで、一つの操作で``x_train``と``y_train``両方のデータを同時に取得することができます：\n",
        "```\n",
        "xb,yb = train_ds[i*bs : i*bs+bs]\n",
        "```\n",
        "\n",
        "\n"
      ]
    },
    {
      "cell_type": "code",
      "metadata": {
        "id": "TPt56Lu9StWk",
        "colab": {
          "base_uri": "https://localhost:8080/"
        },
        "outputId": "cc961a7e-6ce0-4701-bd76-006452f740ff"
      },
      "source": [
        "model, opt = get_model()\n",
        "\n",
        "for epoch in range(epochs):\n",
        "    for i in range((n - 1) // bs + 1):\n",
        "        xb, yb = train_ds[i * bs: i * bs + bs]\n",
        "        pred = model(xb)\n",
        "        loss = loss_func(pred, yb)\n",
        "\n",
        "        loss.backward()\n",
        "        opt.step()\n",
        "        opt.zero_grad()\n",
        "\n",
        "print(loss_func(model(xb), yb))"
      ],
      "execution_count": null,
      "outputs": [
        {
          "output_type": "stream",
          "name": "stdout",
          "text": [
            "tensor(0.3705, grad_fn=<NllLossBackward0>)\n"
          ]
        }
      ]
    },
    {
      "cell_type": "markdown",
      "metadata": {
        "id": "7mQ-mq3QStWk"
      },
      "source": [
        "DataLoaderを用いたリファクタリング\n",
        "------------------------------\n",
        "\n",
        "PyTorchの``DataLoader``はバッチの管理を担っています。\n",
        "\n",
        "どのような``Dataset``からでも``DataLoader``は作成可能です。\n",
        "\n",
        "``DataLoader``はバッチのイテレーション（繰り返し処理）をより簡単にしてくれます。\n",
        "\n",
        "``DataLoader``を利用すれば、毎回``train_ds[i*bs : i*bs+bs]``と記述する必要はなくなり、自動的にそれぞれのミニバッチを生成することができます。\n",
        "\n"
      ]
    },
    {
      "cell_type": "code",
      "metadata": {
        "id": "pe1C8P34StWk"
      },
      "source": [
        "from torch.utils.data import DataLoader\n",
        "\n",
        "train_ds = TensorDataset(x_train, y_train)\n",
        "train_dl = DataLoader(train_ds, batch_size=bs)"
      ],
      "execution_count": null,
      "outputs": []
    },
    {
      "cell_type": "markdown",
      "metadata": {
        "id": "cHDkFMdoStWk"
      },
      "source": [
        "これまでは、反復処理においてバッチ（xb, yb）を得るためにこのように記述していました：\n",
        "\n",
        "\n",
        "\n",
        "```\n",
        "for i in range((n-1)//bs + 1):\n",
        "    xb,yb = train_ds[i*bs : i*bs+bs]\n",
        "    pred = model(xb)\n",
        "```\n",
        "\n",
        "\n",
        "一方``DataLoader`` を用いると、以下のようにバッチ（xb, yb）を自動的に取得できるので反復処理を簡潔に実装することができます：\n",
        "\n",
        "\n",
        "\n",
        "```\n",
        "for xb,yb in train_dl:\n",
        "    pred = model(xb)\n",
        "```\n",
        "\n",
        "\n"
      ]
    },
    {
      "cell_type": "code",
      "metadata": {
        "id": "AleVQTXbStWk",
        "colab": {
          "base_uri": "https://localhost:8080/"
        },
        "outputId": "6a398a88-23b4-4fe7-9c33-4c4da24494bc"
      },
      "source": [
        "model, opt = get_model()\n",
        "\n",
        "for epoch in range(epochs):\n",
        "    for xb, yb in train_dl:\n",
        "        pred = model(xb)\n",
        "        loss = loss_func(pred, yb)\n",
        "\n",
        "        loss.backward()\n",
        "        opt.step()\n",
        "        opt.zero_grad()\n",
        "\n",
        "print(loss_func(model(xb), yb))"
      ],
      "execution_count": null,
      "outputs": [
        {
          "output_type": "stream",
          "name": "stdout",
          "text": [
            "tensor(0.3737, grad_fn=<NllLossBackward0>)\n"
          ]
        }
      ]
    },
    {
      "cell_type": "markdown",
      "metadata": {
        "id": "IawtxL7HStWk"
      },
      "source": [
        "\n",
        "\n",
        "バリデーションを追加する\n",
        "-----------------------\n",
        "\n",
        "ここまでの内容では、 訓練データの使用方法を学ぶために、簡単に解決できる問題をモデルに学習させていました。\n",
        "\n",
        "現実問題では、**常に**、過学習を起こしていないかを確認する必要があるので、[validation set](https://www.fast.ai/2017/11/13/validation-sets/)（検証用のデータセット）を使用しなくてはなりません。\n",
        "\n"
      ]
    },
    {
      "cell_type": "markdown",
      "metadata": {
        "id": "FBizKmhv3HIi"
      },
      "source": [
        "バッチ内で相関が現れてしまうことや過学習を防ぐには、訓練データをあらかじめシャッフルしておくことが重要です。\n",
        "\n",
        "一方で、検証のためのデータセットはシャフルの有無は関係なく、損失は同じになります。\n",
        "\n",
        "\n",
        "余分な時間がかかってしまうので、検証データはシャッフルしないようにしましょう。"
      ]
    },
    {
      "cell_type": "markdown",
      "metadata": {
        "id": "WczytooeiNQk"
      },
      "source": [
        "検証時は誤差逆伝播による訓練ステップが存在しないためメモリをそれほど使用しません（勾配を保存する必要がないため）。そこで検証セットには学習セットの2倍のバッチサイズを使用します。\n",
        "\n",
        "こうすることにより、より大きなバッチサイズを使用して損失をより迅速に計算することができます。\n",
        "\n"
      ]
    },
    {
      "cell_type": "code",
      "metadata": {
        "id": "uWblsCvYStWk"
      },
      "source": [
        "train_ds = TensorDataset(x_train, y_train)\n",
        "train_dl = DataLoader(train_ds, batch_size=bs, shuffle=True)\n",
        "\n",
        "valid_ds = TensorDataset(x_valid, y_valid)\n",
        "valid_dl = DataLoader(valid_ds, batch_size=bs * 2)"
      ],
      "execution_count": null,
      "outputs": []
    },
    {
      "cell_type": "markdown",
      "metadata": {
        "id": "h0mvAeF7StWk"
      },
      "source": [
        "各エポックが終了するごとに、検証として損失を算出します。\n",
        "\n",
        "（``NN.BatchNorm2d``や``NN.Dropout``などのレイヤの適切な動作を保証するためには、訓練前には、``model.train()``を、そして推論の前には``model.eval()``を呼び出し、ネットワークのモードを切り替える必要があることに注意して下さい。）\n",
        "\n"
      ]
    },
    {
      "cell_type": "code",
      "metadata": {
        "id": "NjIG3_jzStWk",
        "colab": {
          "base_uri": "https://localhost:8080/"
        },
        "outputId": "8d297eb9-5548-4a50-d8b1-7003eaac12c5"
      },
      "source": [
        "model, opt = get_model()\n",
        "\n",
        "for epoch in range(epochs):\n",
        "    model.train()\n",
        "    for xb, yb in train_dl:\n",
        "        pred = model(xb)\n",
        "        loss = loss_func(pred, yb)\n",
        "\n",
        "        loss.backward()\n",
        "        opt.step()\n",
        "        opt.zero_grad()\n",
        "\n",
        "    model.eval()\n",
        "    with torch.no_grad():\n",
        "        valid_loss = sum(loss_func(model(xb), yb) for xb, yb in valid_dl)\n",
        "\n",
        "    print(epoch, valid_loss / len(valid_dl))"
      ],
      "execution_count": null,
      "outputs": [
        {
          "output_type": "stream",
          "name": "stdout",
          "text": [
            "0 tensor(0.3820)\n",
            "1 tensor(0.3345)\n",
            "2 tensor(0.3157)\n",
            "3 tensor(0.3037)\n",
            "4 tensor(0.2973)\n",
            "5 tensor(0.2911)\n",
            "6 tensor(0.2865)\n",
            "7 tensor(0.2825)\n",
            "8 tensor(0.2800)\n",
            "9 tensor(0.2795)\n"
          ]
        }
      ]
    },
    {
      "cell_type": "markdown",
      "metadata": {
        "id": "5avv5Jc3StWk"
      },
      "source": [
        "fit関数とget_data関数の実装\n",
        "----------------------------------\n",
        "\n",
        "ここで、また少しリファクタリングをしてみましょう。\n",
        "\n",
        "<br>\n",
        "\n",
        "学習セットの損失の計算と検証セットの損失の計算という似たようなプロセスを2回行っているので、この損失の計算の操作をまとめ、独自の関数 ``loss_batch`` として定義します。\n",
        "\n",
        "<br>\n",
        "\n",
        "訓練セットに対しては、この関数にオプティマイザを渡すことで、誤差逆伝播による訓練を実施することができます。\n",
        "\n",
        "検証セットに対しては、オプティマイザを渡さないのでモデルが訓練されることはありません。\n",
        "\n"
      ]
    },
    {
      "cell_type": "code",
      "metadata": {
        "id": "_IkVorVDStWk"
      },
      "source": [
        "def loss_batch(model, loss_func, xb, yb, opt=None):\n",
        "    loss = loss_func(model(xb), yb)\n",
        "\n",
        "    if opt is not None:\n",
        "        loss.backward()\n",
        "        opt.step()\n",
        "        opt.zero_grad()\n",
        "\n",
        "    return loss.item(), len(xb)"
      ],
      "execution_count": null,
      "outputs": []
    },
    {
      "cell_type": "markdown",
      "metadata": {
        "id": "ivTKvOYVStWk"
      },
      "source": [
        "``fit``関数はモデルを訓練し、各エポックごとに訓練損失と検証損失を計算するために必要な操作を実行します。\n",
        "\n"
      ]
    },
    {
      "cell_type": "code",
      "metadata": {
        "id": "1k59X-LNStWk"
      },
      "source": [
        "import numpy as np\n",
        "\n",
        "def fit(epochs, model, loss_func, opt, train_dl, valid_dl):\n",
        "    for epoch in range(epochs):\n",
        "        model.train()\n",
        "        for xb, yb in train_dl:\n",
        "            loss_batch(model, loss_func, xb, yb, opt)\n",
        "\n",
        "        model.eval()\n",
        "        with torch.no_grad():\n",
        "            losses, nums = zip(\n",
        "                *[loss_batch(model, loss_func, xb, yb) for xb, yb in valid_dl]\n",
        "            )\n",
        "        val_loss = np.sum(np.multiply(losses, nums)) / np.sum(nums)\n",
        "\n",
        "        print(epoch, val_loss)"
      ],
      "execution_count": null,
      "outputs": []
    },
    {
      "cell_type": "markdown",
      "metadata": {
        "id": "wDZ1k85DStWk"
      },
      "source": [
        "``get_data`` 関数は、訓練セットと検証セットのデータローダを返します。"
      ]
    },
    {
      "cell_type": "code",
      "metadata": {
        "id": "1ydtSGF7StWk"
      },
      "source": [
        "def get_data(train_ds, valid_ds, bs):\n",
        "    return (\n",
        "        DataLoader(train_ds, batch_size=bs, shuffle=True),\n",
        "        DataLoader(valid_ds, batch_size=bs * 2),\n",
        "    )"
      ],
      "execution_count": null,
      "outputs": []
    },
    {
      "cell_type": "markdown",
      "metadata": {
        "id": "rNc536yZStWk"
      },
      "source": [
        "これで、データローダの取得からモデルのフィッティングまでの全てのプロセスがたった3行のコードで実行できるようになりました：\n",
        "\n"
      ]
    },
    {
      "cell_type": "code",
      "metadata": {
        "id": "8pk-xSgNStWk",
        "colab": {
          "base_uri": "https://localhost:8080/"
        },
        "outputId": "eedb095a-80db-4a0b-eea3-fd9ce9dcf8d0"
      },
      "source": [
        "train_dl, valid_dl = get_data(train_ds, valid_ds, bs)\n",
        "model, opt = get_model()\n",
        "fit(epochs, model, loss_func, opt, train_dl, valid_dl)"
      ],
      "execution_count": null,
      "outputs": [
        {
          "output_type": "stream",
          "name": "stdout",
          "text": [
            "0 0.38489156701564786\n",
            "1 0.3368971110343933\n",
            "2 0.3179638211488724\n",
            "3 0.30540217789411545\n",
            "4 0.2992494594812393\n",
            "5 0.2930638169288635\n",
            "6 0.2891748028755188\n",
            "7 0.2868509804368019\n",
            "8 0.2852094702243805\n",
            "9 0.2804236898779869\n"
          ]
        }
      ]
    },
    {
      "cell_type": "markdown",
      "metadata": {
        "id": "saZl00-vDTYf"
      },
      "source": [
        "この基本的な3行のコードを応用すれば様々なモデルを訓練することができます。\n",
        "\n",
        "これらの関数を使用して、畳み込みニューラルネットワーク(CNN)を訓練できるか試してみましょう。"
      ]
    },
    {
      "cell_type": "markdown",
      "metadata": {
        "id": "Qu9-RYFEStWk"
      },
      "source": [
        "CNNモデルへの変更\n",
        "-------------\n",
        "\n",
        "これから3層の畳み込み層を持つニューラルネットワークを構築します。\n",
        "\n",
        "これまでに定義した関数はどれもモデルの形については何も前提としていないので、CNNの訓練の際にも、変更を加えず使用できます。\n",
        "\n",
        "畳み込み層としてPyTorchの定義済みクラス[Conv2d](https://pytorch.org/docs/stable/nn.html#torch.nn.Conv2d)を使用します。\n",
        "\n",
        "3つの畳み込み層を持つCNNを定義します。\n",
        "\n",
        "各畳み込み層は活性化関数のReLUに接続し。最終的にアベレージプーリングを実施します。\n",
        "\n",
        "（`view`はPyTorchにおける、Numpyの`reshape`のようなものであることに注意してください。）\n",
        "\n"
      ]
    },
    {
      "cell_type": "code",
      "metadata": {
        "id": "WyAyohFeStWk"
      },
      "source": [
        "class Mnist_CNN(nn.Module):\n",
        "    def __init__(self):\n",
        "        super().__init__()\n",
        "        self.conv1 = nn.Conv2d(1, 16, kernel_size=3, stride=2, padding=1)\n",
        "        self.conv2 = nn.Conv2d(16, 16, kernel_size=3, stride=2, padding=1)\n",
        "        self.conv3 = nn.Conv2d(16, 10, kernel_size=3, stride=2, padding=1)\n",
        "\n",
        "    def forward(self, xb):\n",
        "        xb = xb.view(-1, 1, 28, 28)\n",
        "        xb = F.relu(self.conv1(xb))\n",
        "        xb = F.relu(self.conv2(xb))\n",
        "        xb = F.relu(self.conv3(xb))\n",
        "        xb = F.avg_pool2d(xb, 4)\n",
        "        return xb.view(-1, xb.size(1))\n",
        "\n",
        "lr = 0.1"
      ],
      "execution_count": null,
      "outputs": []
    },
    {
      "cell_type": "markdown",
      "metadata": {
        "id": "hnKsBiwpStWk"
      },
      "source": [
        "[Momentum](https://cs231n.github.io/neural-networks-3/#sgd)は確率的勾配降下法を応用した最適化アルゴリズムで、過去の更新も考慮に入れており、多くの場合でより高速にモデルを訓練させることができます。\n",
        "\n"
      ]
    },
    {
      "cell_type": "code",
      "metadata": {
        "id": "XTUNzqceStWk",
        "colab": {
          "base_uri": "https://localhost:8080/"
        },
        "outputId": "c0ca4dc0-c35d-4a36-a05a-94b4b138e01c"
      },
      "source": [
        "model = Mnist_CNN()\n",
        "opt = optim.SGD(model.parameters(), lr=lr, momentum=0.9)\n",
        "\n",
        "fit(epochs, model, loss_func, opt, train_dl, valid_dl)"
      ],
      "execution_count": null,
      "outputs": [
        {
          "output_type": "stream",
          "name": "stdout",
          "text": [
            "0 0.41185467212200166\n",
            "1 0.22361810079962016\n",
            "2 0.17921202181875706\n",
            "3 0.1738851021319628\n",
            "4 0.16029679223001003\n",
            "5 0.14865417637825012\n",
            "6 0.14687735542953015\n",
            "7 0.15294533051550388\n",
            "8 0.13684962940514087\n",
            "9 0.14871391568779946\n"
          ]
        }
      ]
    },
    {
      "cell_type": "markdown",
      "metadata": {
        "id": "JMKFHnVyStWk"
      },
      "source": [
        "nn.Sequentialの利用\n",
        "------------------------\n",
        "\n",
        "`torch.nn`には、nn.Moduleの他にもう一つ、[Sequential](https://pytorch.org/docs/stable/nn.html#torch.nn.Sequential) という便利なクラスが存在します。\n",
        "\n",
        "`Sequential` オブジェクトは、あらかじめ登録されたモジュールを順番に実行します。\n",
        "\n",
        "これにより、ニューラルネットワークをさらに簡単に実装することができます。\n",
        "\n",
        "与えられた関数から簡単に**カスタムレイヤー**を定義することで`Sequential`を利用することができます。\n",
        "\n",
        "例えば、PyTorchには`view`レイヤがないので、ネットワークの実装のために`view`レイヤを定義する必要があることがあります。\n",
        "\n",
        "下記の`Lambda`関数で、`Sequential`を用いてネットワークを定義する際に使えるレイヤを定義します。\n",
        "\n"
      ]
    },
    {
      "cell_type": "markdown",
      "metadata": {
        "id": "EgSUfNAU5Aut"
      },
      "source": [
        "（日本語訳注）\n",
        "最新のPyTorchでは、[`nn.Flatten`](https://pytorch.org/docs/stable/generated/torch.nn.Flatten.html#torch.nn.Flatten)が追加されて、最後のフラット化（1次元化）をする以下のオリジナルモジュールの役割を担います。\n",
        "\n",
        "その実装も追記しておきます。"
      ]
    },
    {
      "cell_type": "code",
      "metadata": {
        "id": "wxHfY3LhStWk"
      },
      "source": [
        "class Lambda(nn.Module):\n",
        "    def __init__(self, func):\n",
        "        super().__init__()\n",
        "        self.func = func\n",
        "\n",
        "    def forward(self, x):\n",
        "        return self.func(x)\n",
        "\n",
        "\n",
        "def preprocess(x):\n",
        "    return x.view(-1, 1, 28, 28)"
      ],
      "execution_count": null,
      "outputs": []
    },
    {
      "cell_type": "markdown",
      "metadata": {
        "id": "Z9likiNlStWk"
      },
      "source": [
        "シーケンシャルを用いて作成したモデルはシンプルに利用することができます：\n",
        "\n"
      ]
    },
    {
      "cell_type": "code",
      "metadata": {
        "id": "XYTOpMVtStWk",
        "colab": {
          "base_uri": "https://localhost:8080/"
        },
        "outputId": "a451926d-283c-4fd7-fd90-4e0faa1616af"
      },
      "source": [
        "model = nn.Sequential(\n",
        "    Lambda(preprocess),\n",
        "    nn.Conv2d(1, 16, kernel_size=3, stride=2, padding=1),\n",
        "    nn.ReLU(),\n",
        "    nn.Conv2d(16, 16, kernel_size=3, stride=2, padding=1),\n",
        "    nn.ReLU(),\n",
        "    nn.Conv2d(16, 10, kernel_size=3, stride=2, padding=1),\n",
        "    nn.ReLU(),\n",
        "    nn.AvgPool2d(4),\n",
        "    Lambda(lambda x: x.view(x.size(0), -1)),\n",
        ")\n",
        "\n",
        "opt = optim.SGD(model.parameters(), lr=lr, momentum=0.9)\n",
        "\n",
        "fit(epochs, model, loss_func, opt, train_dl, valid_dl)"
      ],
      "execution_count": null,
      "outputs": [
        {
          "output_type": "stream",
          "name": "stdout",
          "text": [
            "0 0.5731389441013336\n",
            "1 0.4704306062221527\n",
            "2 0.43647236523628236\n",
            "3 0.45641438417434693\n",
            "4 0.4012393455028534\n",
            "5 0.401154176568985\n",
            "6 0.4004936940193176\n",
            "7 0.38245248165130613\n",
            "8 0.37350717678070067\n",
            "9 0.39853732266426084\n"
          ]
        }
      ]
    },
    {
      "cell_type": "code",
      "metadata": {
        "colab": {
          "base_uri": "https://localhost:8080/"
        },
        "id": "Zpol_IiA5fNx",
        "outputId": "67a91335-4b11-45a0-cf0d-eb2bb5d9d0d5"
      },
      "source": [
        "# 日本語訳注：最新のnn.Flatten()を使用した場合\n",
        "\n",
        "model = nn.Sequential(\n",
        "    Lambda(preprocess),  # これはnn.Flatten()では対応できないので、このまま\n",
        "    nn.Conv2d(1, 16, kernel_size=3, stride=2, padding=1),\n",
        "    nn.ReLU(),\n",
        "    nn.Conv2d(16, 16, kernel_size=3, stride=2, padding=1),\n",
        "    nn.ReLU(),\n",
        "    nn.Conv2d(16, 10, kernel_size=3, stride=2, padding=1),\n",
        "    nn.ReLU(),\n",
        "    nn.AvgPool2d(4),\n",
        "    # Lambda(lambda x: x.view(x.size(0), -1)),\n",
        "    nn.Flatten()  # 上記Lambdaの代わり\n",
        ")\n",
        "\n",
        "opt = optim.SGD(model.parameters(), lr=lr, momentum=0.9)\n",
        "\n",
        "fit(epochs, model, loss_func, opt, train_dl, valid_dl)"
      ],
      "execution_count": null,
      "outputs": [
        {
          "output_type": "stream",
          "name": "stdout",
          "text": [
            "0 0.3807900171279907\n",
            "1 0.2717717319488525\n",
            "2 0.21381081998348236\n",
            "3 0.1926133973300457\n",
            "4 0.184767905408144\n",
            "5 0.1881239752471447\n",
            "6 0.15623238807916642\n",
            "7 0.15003757560253142\n",
            "8 0.13942352396249771\n",
            "9 0.12436602845937014\n"
          ]
        }
      ]
    },
    {
      "cell_type": "markdown",
      "metadata": {
        "id": "zrnI0rC-StWk"
      },
      "source": [
        "DataLoaderのラップ\n",
        "-----------------------------\n",
        "\n",
        "今回実装したCNNはシンプルですが、MNISTにしか使用することができません。\n",
        "\n",
        "理由は\n",
        "\n",
        " - 入力が28×28のベクトルに制限されている\n",
        " - 最終的なCNNのグリッドサイズが（アベレージプーリングのカーネルサイズにより）4×4に指定されている\n",
        "\n",
        "\n",
        "ためです。\n"
      ]
    },
    {
      "cell_type": "markdown",
      "metadata": {
        "id": "zXpDDCubDC2n"
      },
      "source": [
        "\n",
        "\n",
        "```\n",
        "# これはコードとして書式設定されます\n",
        "```\n",
        "\n",
        "\n",
        "この２つの制約を取り除き、任意の2次元シングルチャンネル画像で動作するようにしましょう。\n",
        "\n",
        "まず、最初に実装したラムダ層を取り除き、データの前処理をジェネレータへと移します。"
      ]
    },
    {
      "cell_type": "code",
      "metadata": {
        "id": "_zSYy3TtStWk"
      },
      "source": [
        "def preprocess(x, y):\n",
        "    return x.view(-1, 1, 28, 28), y\n",
        "\n",
        "\n",
        "class WrappedDataLoader:\n",
        "    def __init__(self, dl, func):\n",
        "        self.dl = dl\n",
        "        self.func = func\n",
        "\n",
        "    def __len__(self):\n",
        "        return len(self.dl)\n",
        "\n",
        "    def __iter__(self):\n",
        "        batches = iter(self.dl)\n",
        "        for b in batches:\n",
        "            yield (self.func(*b))\n",
        "\n",
        "train_dl, valid_dl = get_data(train_ds, valid_ds, bs)\n",
        "train_dl = WrappedDataLoader(train_dl, preprocess)\n",
        "valid_dl = WrappedDataLoader(valid_dl, preprocess)"
      ],
      "execution_count": null,
      "outputs": []
    },
    {
      "cell_type": "markdown",
      "metadata": {
        "id": "IraxvWFdStWk"
      },
      "source": [
        "続いてですが、`NN.AvgPool2d`を`NN.AdaptiveAvgPool2d`に置き換えることで、入力テンソルのサイズではなく、出力したいテンソルの任意のサイズを定義することができます。\n",
        "\n",
        "この変更によって、モデルはどんなサイズの入力に対しても対応することができます。\n",
        "\n"
      ]
    },
    {
      "cell_type": "code",
      "metadata": {
        "id": "khSQVC_BStWk"
      },
      "source": [
        "model = nn.Sequential(\n",
        "    nn.Conv2d(1, 16, kernel_size=3, stride=2, padding=1),\n",
        "    nn.ReLU(),\n",
        "    nn.Conv2d(16, 16, kernel_size=3, stride=2, padding=1),\n",
        "    nn.ReLU(),\n",
        "    nn.Conv2d(16, 10, kernel_size=3, stride=2, padding=1),\n",
        "    nn.ReLU(),\n",
        "    nn.AdaptiveAvgPool2d(1),\n",
        "    Lambda(lambda x: x.view(x.size(0), -1)),\n",
        ")\n",
        "\n",
        "opt = optim.SGD(model.parameters(), lr=lr, momentum=0.9)"
      ],
      "execution_count": null,
      "outputs": []
    },
    {
      "cell_type": "markdown",
      "metadata": {
        "id": "h3ykilukStWk"
      },
      "source": [
        "試しに`fit`関数を使用してみましょう：\n",
        "\n"
      ]
    },
    {
      "cell_type": "code",
      "metadata": {
        "id": "zNrg8I7PStWk",
        "colab": {
          "base_uri": "https://localhost:8080/"
        },
        "outputId": "8561b361-f4dc-4fc5-c1a9-5cdd85bdb01f"
      },
      "source": [
        "%%time\n",
        "\n",
        "fit(epochs, model, loss_func, opt, train_dl, valid_dl)"
      ],
      "execution_count": null,
      "outputs": [
        {
          "output_type": "stream",
          "name": "stdout",
          "text": [
            "0 0.3393591950416565\n",
            "1 0.23681851541996002\n",
            "2 0.23274375675320624\n",
            "3 0.20111894656419754\n",
            "4 0.17500387798547745\n",
            "5 0.15872182080447675\n",
            "6 0.15621308937966824\n",
            "7 0.16810878595113754\n",
            "8 0.16304067859053611\n",
            "9 0.12687546251416207\n",
            "CPU times: user 52 s, sys: 101 ms, total: 52.1 s\n",
            "Wall time: 52.4 s\n"
          ]
        }
      ]
    },
    {
      "cell_type": "markdown",
      "metadata": {
        "id": "vz6LrWM6StWk"
      },
      "source": [
        "GPUの利用\n",
        "---------------\n",
        "\n",
        "CUDA対応のGPUにアクセスする環境をお持ちの方は、GPUを用いてコードの実行を高速化することができます（クラウドサービスから一時間につき0.5ドル程度でレンタルすることも可能です）。\n",
        "\n",
        "まず、PytorchでGPUが動作しているかどうかを確認してください：\n",
        "\n",
        "\n",
        "\n"
      ]
    },
    {
      "cell_type": "markdown",
      "metadata": {
        "id": "DgYc-A6__Bx2"
      },
      "source": [
        "日本語訳注：\n",
        "\n",
        "Google ColaboratoryでGPUモードにするには、上部メニューの「ランタイム」から「ランタイムタイプを変更」を選択し、ハードウェアアクセラレーターをGPUにします。\n",
        "\n",
        "本ファイルは始めからGPUモードになっています。"
      ]
    },
    {
      "cell_type": "code",
      "metadata": {
        "id": "VQWY8R_WStWk",
        "colab": {
          "base_uri": "https://localhost:8080/"
        },
        "outputId": "86e46d11-d461-4dcb-e11e-4a061757ed7c"
      },
      "source": [
        "print(torch.cuda.is_available())"
      ],
      "execution_count": null,
      "outputs": [
        {
          "output_type": "stream",
          "name": "stdout",
          "text": [
            "True\n"
          ]
        }
      ]
    },
    {
      "cell_type": "markdown",
      "metadata": {
        "id": "oQIKcJt5StWk"
      },
      "source": [
        "次に、デバイスオブジェクトを作成します：\n",
        "\n"
      ]
    },
    {
      "cell_type": "code",
      "metadata": {
        "id": "YbUmoWyfStWk"
      },
      "source": [
        "dev = torch.device(\n",
        "    \"cuda\") if torch.cuda.is_available() else torch.device(\"cpu\")"
      ],
      "execution_count": null,
      "outputs": []
    },
    {
      "cell_type": "markdown",
      "metadata": {
        "id": "kveoI0JoStWk"
      },
      "source": [
        "データのバッチをGPUに移動させるために前処理を再定義してみましょう：\n",
        "\n"
      ]
    },
    {
      "cell_type": "code",
      "metadata": {
        "id": "Kmsjf82jStWl"
      },
      "source": [
        "def preprocess(x, y):\n",
        "    return x.view(-1, 1, 28, 28).to(dev), y.to(dev)\n",
        "\n",
        "\n",
        "train_dl, valid_dl = get_data(train_ds, valid_ds, bs)\n",
        "train_dl = WrappedDataLoader(train_dl, preprocess)\n",
        "valid_dl = WrappedDataLoader(valid_dl, preprocess)"
      ],
      "execution_count": null,
      "outputs": []
    },
    {
      "cell_type": "markdown",
      "metadata": {
        "id": "TYsjMovwStWl"
      },
      "source": [
        "最後に、モデルをGPUに移動させます。\n",
        "\n",
        "（日本語訳注：モデルをGPUに置きなおしたので、オプティマイザーも定義し直します）\n",
        "\n",
        "\n",
        "\n"
      ]
    },
    {
      "cell_type": "code",
      "metadata": {
        "id": "W6h5HDWaStWl"
      },
      "source": [
        "model.to(dev)\n",
        "opt = optim.SGD(model.parameters(), lr=lr, momentum=0.9)"
      ],
      "execution_count": null,
      "outputs": []
    },
    {
      "cell_type": "markdown",
      "metadata": {
        "id": "PlHfV8-wStWl"
      },
      "source": [
        "実行速度が速くなったことを確認してください。"
      ]
    },
    {
      "cell_type": "code",
      "metadata": {
        "id": "do3VIrG0StWl",
        "colab": {
          "base_uri": "https://localhost:8080/"
        },
        "outputId": "1e86c9f4-d568-4f9b-d9b7-5320dcf60397"
      },
      "source": [
        "%%time\n",
        "\n",
        "fit(epochs, model, loss_func, opt, train_dl, valid_dl)"
      ],
      "execution_count": null,
      "outputs": [
        {
          "output_type": "stream",
          "name": "stdout",
          "text": [
            "0 0.13911741957068444\n",
            "1 0.1275185433626175\n",
            "2 0.13562582704424858\n",
            "3 0.1386361155182123\n",
            "4 0.12235836689770221\n",
            "5 0.1217835092842579\n",
            "6 0.11099787874668837\n",
            "7 0.12808961267471314\n",
            "8 0.13646752904355525\n",
            "9 0.11071072020232678\n",
            "CPU times: user 17.5 s, sys: 395 ms, total: 17.9 s\n",
            "Wall time: 18.8 s\n"
          ]
        }
      ]
    },
    {
      "cell_type": "markdown",
      "metadata": {
        "id": "8LBqyurm5lav"
      },
      "source": [
        "まとめ\n",
        "-----------------\n",
        "\n",
        "本チュートリアルでは、PyTorchを使用し、様々なタイプのモデルの訓練に応用できる、データ処理と訓練の流れを解説しました。\n",
        "\n",
        "モデルの訓練をどれくらい簡単にできるのか確認するために、サンプルのノートブックで MNISTデータを用いたデータセットを訓練しました。"
      ]
    },
    {
      "cell_type": "markdown",
      "metadata": {
        "id": "V8AZRMlR8dKe"
      },
      "source": [
        "もちろん、データ拡張、ハイパーパラメータのチューニング、訓練のモニタリング、転移学習など、追加したい機能はたくさんあります。\n",
        "\n",
        "これらの機能は、[fastaiライブラリ](https://docs.fast.ai/)を利用することで簡単に実装できます。\n",
        "\n",
        "本チュートリアルで解説したPyTorchの設計と同じアプローチで開発されており、自分が実装するモデルをさらに進化させたいと考えている方には良いステップになるかと思います。"
      ]
    },
    {
      "cell_type": "markdown",
      "metadata": {
        "id": "ursX1jRQ8pke"
      },
      "source": [
        "本チュートリアルの最初に、torch.nn、torch.optim、 Dataset、DataLoaderそれぞれについて、例を挙げて説明していくと記しました。\n",
        "\n",
        "最後に、本チュートリアルで学んだことを確認します。"
      ]
    },
    {
      "cell_type": "markdown",
      "metadata": {
        "id": "YicMrZwNStWl"
      },
      "source": [
        " - **``torch.nn``**\n",
        "\n",
        "   + ``Module``: 現在の状態（ニューラルネットワークの層の重みなど）を保持する機能を持ち、関数のように呼び出すことができます。ネットワークが持つ``Parameter``も管理していて、重みの更新のために勾配の保持や初期化を繰り返し行います。\n",
        "   + ``Parameter``：Tensorのラッパークラスになります。Tensorが``requires_grad`` 属性を持っている場合、誤差逆伝播時に`Module`に更新対象であることを知らせます。\n",
        "   + ``functional``：誤差関数や活性化関数などの関数を持つモジュールです（慣例として``F``という略称でインポートされます）。畳み込み層や線形層といった状態を持つモジュールの状態なし版レイヤーも同様にこのモジュールに含まれています。\n",
        " - **``torch.optim``**：`SGD`などの複数のオプティマイザーが含まれていて、逆伝播の際に``Parameter``の重みを更新します。\n",
        " - **``Dataset``**：TensorDatasetのようなPytorchで提供されているクラスを含む抽象インターフェースです。メソッドとして``__len__``や``__getitem__``を保持しています。\n",
        " - **``DataLoader``**：任意の``Dataset``を受け取り、データのバッチを返すイテレータを生成することができます。\n",
        "\n"
      ]
    }
  ]
}