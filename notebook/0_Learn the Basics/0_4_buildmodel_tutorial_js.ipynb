{
  "nbformat": 4,
  "nbformat_minor": 0,
  "metadata": {
    "kernelspec": {
      "display_name": "Python 3",
      "language": "python",
      "name": "python3"
    },
    "language_info": {
      "codemirror_mode": {
        "name": "ipython",
        "version": 3
      },
      "file_extension": ".py",
      "mimetype": "text/x-python",
      "name": "python",
      "nbconvert_exporter": "python",
      "pygments_lexer": "ipython3",
      "version": "3.6.12"
    },
    "colab": {
      "name": "0_4_buildmodel_tutorial_js.ipynb",
      "provenance": [],
      "toc_visible": true
    },
    "accelerator": "GPU"
  },
  "cells": [
    {
      "cell_type": "markdown",
      "metadata": {
        "id": "1-44uTTLDWF4"
      },
      "source": [
        "「PyTorch入門  4. モデル構築」\n",
        "===============================================================\n",
        "【原題】BUILD THE NEURAL NETWORK\n",
        "\n",
        "【原著】\n",
        "[Suraj Subramanian](https://github.com/suraj813)、[Seth Juarez](https://github.com/sethjuarez/) 、[Cassie Breviu](https://github.com/cassieview/) 、[Dmitry Soshnikov](https://soshnikov.com/)、[Ari Bornstein](https://github.com/aribornstein/)\n",
        "\n",
        "\n",
        "【元URL】https://pytorch.org/tutorials/beginner/basics/buildmodel_tutorial.html\n",
        "\n",
        "【翻訳】電通国際情報サービスISID AIトランスフォーメーションセンター　小川 雄太郎\n",
        "\n",
        "【日付】2021年03月18日\n",
        "\n",
        "【チュトーリアル概要】\n",
        "\n",
        "本チュートリアルでは、PyTorchでニューラルネットワークのモデルを構築する方法について解説します\n",
        "\n",
        "---\n"
      ]
    },
    {
      "cell_type": "markdown",
      "metadata": {
        "id": "VIY1DSd3DQVy"
      },
      "source": [
        "ニューラルネットワークモデルの作り方\n",
        "===================\n",
        "\n",
        "ニューラルネットワークは、レイヤー（もしくはモジュール）と呼ばれるデータ操作の固まりで構成されています。\n",
        "\n",
        "[`torch.nn`](https://pytorch.org/docs/stable/nn.html)で用意されているクラス、関数は、独自のニューラルネットワークを構築するために必要な要素を網羅しています。\n",
        "\n"
      ]
    },
    {
      "cell_type": "markdown",
      "metadata": {
        "id": "O48CtJdPEMkO"
      },
      "source": [
        "PyTorchの全てのモジュールは、[`nn.Module`](https://pytorch.org/docs/stable/generated/torch.nn.Module.html)を継承しています。\n",
        "\n",
        "\n",
        "そしてニューラルネットワークは、モジュール自体が他のモジュール（レイヤー）から構成されています。\n",
        "\n",
        "<br>\n",
        "\n",
        "この入れ子構造により、複雑なアーキテクチャを容易に構築・管理することができます。\n",
        "\n",
        "以下で、FashionMNIST datasetの画像データをクラス分類するネットワークモデルを構築します。\n",
        "\n",
        "\n"
      ]
    },
    {
      "cell_type": "code",
      "metadata": {
        "id": "_XTunWqXDQVq"
      },
      "source": [
        "%matplotlib inline"
      ],
      "execution_count": 1,
      "outputs": []
    },
    {
      "cell_type": "code",
      "metadata": {
        "id": "TUMfUWVdDQVz"
      },
      "source": [
        "import os\n",
        "import torch\n",
        "from torch import nn\n",
        "from torch.utils.data import DataLoader\n",
        "from torchvision import datasets, transforms"
      ],
      "execution_count": 2,
      "outputs": []
    },
    {
      "cell_type": "markdown",
      "metadata": {
        "id": "otI1Xn70v5Wb"
      },
      "source": [
        "---"
      ]
    },
    {
      "cell_type": "markdown",
      "metadata": {
        "id": "MEc8RAXEDQVz"
      },
      "source": [
        "訓練に使用するデバイス\n",
        "-----------------------\n",
        "可能であれば高速に訓練を行うためにも、GPU等を利用したいところです。\n",
        "\n",
        "GPUが使用可能かどうかは、[`torch.cuda`](https://pytorch.org/docs/stable/notes/cuda.html)の結果から判断できます。\n",
        "\n",
        "GPUが使用できない場合は、CPUで訓練を行います。\n",
        "\n"
      ]
    },
    {
      "cell_type": "code",
      "metadata": {
        "id": "dLbeJ_yEDQV0",
        "colab": {
          "base_uri": "https://localhost:8080/"
        },
        "outputId": "f0a2e909-7d85-4730-dadf-b59710557b67"
      },
      "source": [
        "device = 'cuda' if torch.cuda.is_available() else 'cpu'\n",
        "print('Using {} device'.format(device))"
      ],
      "execution_count": 3,
      "outputs": [
        {
          "output_type": "stream",
          "name": "stdout",
          "text": [
            "Using cuda device\n"
          ]
        }
      ]
    },
    {
      "cell_type": "markdown",
      "metadata": {
        "id": "tWDDz3oLwKnS"
      },
      "source": [
        "---\n",
        "\n"
      ]
    },
    {
      "cell_type": "markdown",
      "metadata": {
        "id": "hpwQpfqaDQV0"
      },
      "source": [
        "クラスの定義\n",
        "-------------------------\n",
        "``nn.Module``を継承し、独自のネットワークモデルを定義し、その後ネットワークのレイヤーを ``__init__``で初期化します。\n",
        "\n",
        "``nn.Module`` を継承した全モジュールは、入力データの順伝搬関数である``forward``関数を持ちます。\n",
        "\n",
        "\n",
        "\n"
      ]
    },
    {
      "cell_type": "code",
      "metadata": {
        "id": "_YIBi6hlDQV0"
      },
      "source": [
        "class NeuralNetwork(nn.Module):\n",
        "    def __init__(self):\n",
        "        super(NeuralNetwork, self).__init__()\n",
        "        self.flatten = nn.Flatten()\n",
        "        self.linear_relu_stack = nn.Sequential(\n",
        "            nn.Linear(28*28, 512),\n",
        "            nn.ReLU(),\n",
        "            nn.Linear(512, 512),\n",
        "            nn.ReLU(),\n",
        "            nn.Linear(512, 10),\n",
        "            nn.ReLU()\n",
        "        )\n",
        "\n",
        "    def forward(self, x):\n",
        "        x = self.flatten(x)\n",
        "        logits = self.linear_relu_stack(x)\n",
        "        return logits"
      ],
      "execution_count": 4,
      "outputs": []
    },
    {
      "cell_type": "markdown",
      "metadata": {
        "id": "hR4LTBLUDQV0"
      },
      "source": [
        "``NeuralNetwork``クラスのインスタンスを作成し、変数``device``上に移動させます。\n",
        "\n",
        "以下でネットワークの構造を出力し確認します。\n",
        "\n"
      ]
    },
    {
      "cell_type": "code",
      "metadata": {
        "id": "KHJ-YiukDQV1",
        "colab": {
          "base_uri": "https://localhost:8080/"
        },
        "outputId": "03cd5533-b249-43a9-83b1-6543865e4552"
      },
      "source": [
        "model = NeuralNetwork().to(device)\n",
        "print(model)"
      ],
      "execution_count": 5,
      "outputs": [
        {
          "output_type": "stream",
          "name": "stdout",
          "text": [
            "NeuralNetwork(\n",
            "  (flatten): Flatten(start_dim=1, end_dim=-1)\n",
            "  (linear_relu_stack): Sequential(\n",
            "    (0): Linear(in_features=784, out_features=512, bias=True)\n",
            "    (1): ReLU()\n",
            "    (2): Linear(in_features=512, out_features=512, bias=True)\n",
            "    (3): ReLU()\n",
            "    (4): Linear(in_features=512, out_features=10, bias=True)\n",
            "    (5): ReLU()\n",
            "  )\n",
            ")\n"
          ]
        }
      ]
    },
    {
      "cell_type": "markdown",
      "metadata": {
        "id": "dKOb-C4RDQV1"
      },
      "source": [
        "モデルを利用するには、入力データを与える必要があります。\n",
        "\n",
        "入力データをモデルに投入すると、``forward``関数で処理されるとともに、いくつかの[`background operations`](https://github.com/pytorch/pytorch/blob/270111b7b611d174967ed204776985cefca9c144/torch/nn/modules/module.py#L866)が実行されます。\n",
        "\n",
        "そのため、 ``model.forward()`` と記載して入力データを処理しないように注意してください。\n",
        "\n"
      ]
    },
    {
      "cell_type": "markdown",
      "metadata": {
        "id": "5yYt8p8_TEf1"
      },
      "source": [
        "今回のモデルに入力を与えると、各クラスの生の予測値を含む10次元のテンソルが返されます。\n",
        "\n",
        "``nn.Softmax``モジュールにこの出力結果を与えることで、入力データが各クラスに属する確率の予測値を求めることができます。\n",
        "\n",
        "\n",
        "\n"
      ]
    },
    {
      "cell_type": "code",
      "metadata": {
        "id": "Oe691X8VDQV1",
        "colab": {
          "base_uri": "https://localhost:8080/"
        },
        "outputId": "3fe9b532-fdea-47b7-a84b-965cd733478b"
      },
      "source": [
        "X = torch.rand(1, 28, 28, device=device)\n",
        "logits = model(X)\n",
        "pred_probab = nn.Softmax(dim=1)(logits)\n",
        "y_pred = pred_probab.argmax(1)\n",
        "print(f\"Predicted class: {y_pred}\")"
      ],
      "execution_count": 6,
      "outputs": [
        {
          "output_type": "stream",
          "name": "stdout",
          "text": [
            "Predicted class: tensor([4], device='cuda:0')\n"
          ]
        }
      ]
    },
    {
      "cell_type": "markdown",
      "metadata": {
        "id": "fzpK4yM_DQV1"
      },
      "source": [
        "--------------\n",
        "\n",
        "\n"
      ]
    },
    {
      "cell_type": "markdown",
      "metadata": {
        "id": "fpqmh-JcDQV2"
      },
      "source": [
        "モデルレイヤー\n",
        "-------------------------\n",
        "\n",
        "FashionMNISTモデルを各レイヤーレベルで確認しましょう。\n",
        "\n",
        "サイズ28x28の3枚の画像からなるミニバッチのサンプルを用意し、このミニバッチをネットワークに入力し、各処理による変化を確認していきます。\n",
        "\n"
      ]
    },
    {
      "cell_type": "code",
      "metadata": {
        "id": "n8Zv7Y-FDQV2",
        "colab": {
          "base_uri": "https://localhost:8080/"
        },
        "outputId": "e37f66e6-1bf9-4dde-f034-1194f5a6f0e0"
      },
      "source": [
        "input_image = torch.rand(3,28,28)\n",
        "print(input_image.size())"
      ],
      "execution_count": 7,
      "outputs": [
        {
          "output_type": "stream",
          "name": "stdout",
          "text": [
            "torch.Size([3, 28, 28])\n"
          ]
        }
      ]
    },
    {
      "cell_type": "markdown",
      "metadata": {
        "id": "KMJPYwfvDQV2"
      },
      "source": [
        "**nn.Flatten**\n",
        "\n",
        "[`nn.Flatten`](https://pytorch.org/docs/stable/generated/torch.nn.Flatten.html)レイヤーで、2次元（28x28）の画像を、1次元の784ピクセルの値へと変換します。\n",
        "\n",
        "ミニバッチの0次元目は、サンプル番号を示す次元で、この次元は`nn.Flatten`を通しても変化しません（1次元目以降がFlattenされます）。\n",
        "\n"
      ]
    },
    {
      "cell_type": "code",
      "metadata": {
        "id": "22uMacy6DQV2",
        "colab": {
          "base_uri": "https://localhost:8080/"
        },
        "outputId": "fec0366a-8528-4be3-b693-8ce3fe545d7e"
      },
      "source": [
        "flatten = nn.Flatten()\n",
        "flat_image = flatten(input_image)\n",
        "print(flat_image.size())"
      ],
      "execution_count": 8,
      "outputs": [
        {
          "output_type": "stream",
          "name": "stdout",
          "text": [
            "torch.Size([3, 784])\n"
          ]
        }
      ]
    },
    {
      "cell_type": "markdown",
      "metadata": {
        "id": "sJwCXtkHDQV3"
      },
      "source": [
        "**nn.Linear**\n",
        "\n",
        "\n",
        "[`linear layer`](https://pytorch.org/docs/stable/generated/torch.nn.Linear.html)は、線形変換を施します。\n",
        "\n",
        "`linear layer`は重みとバイアスのパラメータを保持しています。\n",
        "\n",
        "\n",
        "\n"
      ]
    },
    {
      "cell_type": "code",
      "metadata": {
        "id": "70AxgqAKDQV3",
        "colab": {
          "base_uri": "https://localhost:8080/"
        },
        "outputId": "33a1f778-6f44-4aab-8fed-bdc67913ce2e"
      },
      "source": [
        "layer1 = nn.Linear(in_features=28*28, out_features=20)\n",
        "hidden1 = layer1(flat_image)\n",
        "print(hidden1.size())"
      ],
      "execution_count": 9,
      "outputs": [
        {
          "output_type": "stream",
          "name": "stdout",
          "text": [
            "torch.Size([3, 20])\n"
          ]
        }
      ]
    },
    {
      "cell_type": "markdown",
      "metadata": {
        "id": "267YsX6VDQV3"
      },
      "source": [
        "**nn.ReLU**\n",
        "\n",
        "非線形な活性化関数は、ニューラルネットワークの入力と出力の間にある、複雑な関係性を表現するために重要な要素です。\n",
        "\n",
        "これらの活性化関数は線形変換のあとに、非線形性を加え、ニューラルネットワークの表現力を向上させる役割をします。\n",
        "\n",
        "<br>\n",
        "\n",
        "今回のモデルでは[`nn.ReLU`](https://pytorch.org/docs/stable/generated/torch.nn.ReLU.html)をlinear layerの間に用意しました。\n",
        "\n",
        "なお、非線形活性化関数には他にも様々な種類があります。\n",
        "\n"
      ]
    },
    {
      "cell_type": "code",
      "metadata": {
        "id": "UujPSM2ZDQV3",
        "colab": {
          "base_uri": "https://localhost:8080/"
        },
        "outputId": "adc453e2-089f-4095-f4fd-796c9b243a58"
      },
      "source": [
        "print(f\"Before ReLU: {hidden1}\\n\\n\")\n",
        "hidden1 = nn.ReLU()(hidden1)\n",
        "print(f\"After ReLU: {hidden1}\")"
      ],
      "execution_count": 10,
      "outputs": [
        {
          "output_type": "stream",
          "name": "stdout",
          "text": [
            "Before ReLU: tensor([[ 0.1060,  0.0821,  0.3766, -0.1524,  0.2117, -0.2510, -0.4499, -0.0075,\n",
            "         -0.1151,  0.5875,  0.7538,  0.1273, -0.2190, -0.0395, -0.1491, -0.0975,\n",
            "         -0.3546,  0.1713, -0.1335,  0.1907],\n",
            "        [-0.1643,  0.3026,  0.5124,  0.0795,  0.1503, -0.2320, -0.2538, -0.0823,\n",
            "         -0.0749,  0.5273,  0.0387, -0.1703, -0.1171,  0.0012, -0.1024,  0.1369,\n",
            "         -0.0781,  0.1847, -0.0084,  0.1532],\n",
            "        [ 0.2198,  0.2919,  0.5265, -0.0613,  0.2676, -0.3340, -0.4021,  0.0221,\n",
            "         -0.0130,  0.3402,  0.8478,  0.1457, -0.3019, -0.2789, -0.1507, -0.2266,\n",
            "         -0.0942,  0.0686, -0.1774, -0.0457]], grad_fn=<AddmmBackward0>)\n",
            "\n",
            "\n",
            "After ReLU: tensor([[0.1060, 0.0821, 0.3766, 0.0000, 0.2117, 0.0000, 0.0000, 0.0000, 0.0000,\n",
            "         0.5875, 0.7538, 0.1273, 0.0000, 0.0000, 0.0000, 0.0000, 0.0000, 0.1713,\n",
            "         0.0000, 0.1907],\n",
            "        [0.0000, 0.3026, 0.5124, 0.0795, 0.1503, 0.0000, 0.0000, 0.0000, 0.0000,\n",
            "         0.5273, 0.0387, 0.0000, 0.0000, 0.0012, 0.0000, 0.1369, 0.0000, 0.1847,\n",
            "         0.0000, 0.1532],\n",
            "        [0.2198, 0.2919, 0.5265, 0.0000, 0.2676, 0.0000, 0.0000, 0.0221, 0.0000,\n",
            "         0.3402, 0.8478, 0.1457, 0.0000, 0.0000, 0.0000, 0.0000, 0.0000, 0.0686,\n",
            "         0.0000, 0.0000]], grad_fn=<ReluBackward0>)\n"
          ]
        }
      ]
    },
    {
      "cell_type": "markdown",
      "metadata": {
        "id": "5AGGLji7DQV3"
      },
      "source": [
        "**nn.Sequential**\n",
        "\n",
        "[``nn.Sequential``](https://pytorch.org/docs/stable/generated/torch.nn.Sequential.html)は、モジュールを順番に格納する箱のような要素です。\n",
        "\n",
        "入力データは``nn.Sequential``に定義された順番に各モジュールを伝搬します。\n",
        "\n",
        "<br>\n",
        "\n",
        "例えば以下の実装例のように、``seq_modules``と名付けた、複数のモジュールを束ねたモジュールを簡単に構築できます。\n",
        "\n",
        "\n"
      ]
    },
    {
      "cell_type": "code",
      "metadata": {
        "id": "axARfNRODQV4"
      },
      "source": [
        "seq_modules = nn.Sequential(\n",
        "    flatten,\n",
        "    layer1,\n",
        "    nn.ReLU(),\n",
        "    nn.Linear(20, 10)\n",
        ")\n",
        "input_image = torch.rand(3,28,28)\n",
        "logits = seq_modules(input_image)"
      ],
      "execution_count": 11,
      "outputs": []
    },
    {
      "cell_type": "markdown",
      "metadata": {
        "id": "0GZvNNVkDQV4"
      },
      "source": [
        "**nn.Softmax**\n",
        "\n",
        "ニューラルネットワークの最後のlinear layerは`logits` [- ∞, ∞] を出力します。\n",
        "\n",
        "\n",
        "この`logits`は[`nn.Softmax`](https://pytorch.org/docs/stable/generated/torch.nn.Softmax.html)モジュールへと渡されます。\n",
        "\n",
        "\n",
        "その結果、採取的な値は[0, 1]の範囲となり、これは各クラスである確率を示します。\n",
        "\n",
        "\n",
        "``dim``パラメータは次元を示しており、`dim=1`の次元で和を求めると確率の総和なので1になります。\n",
        "\n",
        "\n"
      ]
    },
    {
      "cell_type": "code",
      "metadata": {
        "id": "67Cs9aruDQV4"
      },
      "source": [
        "softmax = nn.Softmax(dim=1)\n",
        "pred_probab = softmax(logits)"
      ],
      "execution_count": 12,
      "outputs": []
    },
    {
      "cell_type": "markdown",
      "metadata": {
        "id": "QS1oOkuBzcxV"
      },
      "source": [
        "---\n",
        "\n",
        "\n"
      ]
    },
    {
      "cell_type": "markdown",
      "metadata": {
        "id": "XtI1LxYQDQV5"
      },
      "source": [
        "モデルパラメータ\n",
        "-------------------------\n",
        "\n",
        "ニューラルネットワークを構成する多くのモジュールは、おのおのパラメータを保持しています。\n",
        "\n",
        "例えば、重みやバイアスです。これらの値が訓練時に最適化されます。\n",
        "\n"
      ]
    },
    {
      "cell_type": "markdown",
      "metadata": {
        "id": "4FJU0RwzzkHB"
      },
      "source": [
        "\n",
        "``nn.Module`` を継承することで、モデルオブジェクト内で定義されたすべてのフィールドが自動的に追跡でき、``parameters()`` や ``named_parameters()`` メソッドを使って、モデルの各レイヤーのすべてのパラメータにアクセスできるようになります。\n",
        "\n",
        "以下にfor文を用いて、各パラメータを処理し、そのサイズと値を表示します。\n",
        "\n"
      ]
    },
    {
      "cell_type": "code",
      "metadata": {
        "id": "Sw5LzlOpDQV6",
        "colab": {
          "base_uri": "https://localhost:8080/"
        },
        "outputId": "e233cff9-74ef-4a0c-de51-3e26c27d8e4d"
      },
      "source": [
        "print(\"Model structure: \", model, \"\\n\\n\")\n",
        "\n",
        "for name, param in model.named_parameters():\n",
        "    print(f\"Layer: {name} | Size: {param.size()} | Values : {param[:2]} \\n\")"
      ],
      "execution_count": 13,
      "outputs": [
        {
          "output_type": "stream",
          "name": "stdout",
          "text": [
            "Model structure:  NeuralNetwork(\n",
            "  (flatten): Flatten(start_dim=1, end_dim=-1)\n",
            "  (linear_relu_stack): Sequential(\n",
            "    (0): Linear(in_features=784, out_features=512, bias=True)\n",
            "    (1): ReLU()\n",
            "    (2): Linear(in_features=512, out_features=512, bias=True)\n",
            "    (3): ReLU()\n",
            "    (4): Linear(in_features=512, out_features=10, bias=True)\n",
            "    (5): ReLU()\n",
            "  )\n",
            ") \n",
            "\n",
            "\n",
            "Layer: linear_relu_stack.0.weight | Size: torch.Size([512, 784]) | Values : tensor([[ 0.0288, -0.0291,  0.0066,  ..., -0.0050,  0.0132,  0.0107],\n",
            "        [ 0.0082, -0.0020,  0.0172,  ..., -0.0061, -0.0294, -0.0067]],\n",
            "       device='cuda:0', grad_fn=<SliceBackward0>) \n",
            "\n",
            "Layer: linear_relu_stack.0.bias | Size: torch.Size([512]) | Values : tensor([-0.0002, -0.0032], device='cuda:0', grad_fn=<SliceBackward0>) \n",
            "\n",
            "Layer: linear_relu_stack.2.weight | Size: torch.Size([512, 512]) | Values : tensor([[ 0.0110,  0.0279, -0.0246,  ...,  0.0378,  0.0081,  0.0079],\n",
            "        [-0.0286,  0.0279, -0.0360,  ..., -0.0089,  0.0133, -0.0261]],\n",
            "       device='cuda:0', grad_fn=<SliceBackward0>) \n",
            "\n",
            "Layer: linear_relu_stack.2.bias | Size: torch.Size([512]) | Values : tensor([-0.0362,  0.0356], device='cuda:0', grad_fn=<SliceBackward0>) \n",
            "\n",
            "Layer: linear_relu_stack.4.weight | Size: torch.Size([10, 512]) | Values : tensor([[ 0.0397, -0.0345, -0.0428,  ..., -0.0355,  0.0413,  0.0398],\n",
            "        [ 0.0293,  0.0140, -0.0268,  ...,  0.0414,  0.0399, -0.0056]],\n",
            "       device='cuda:0', grad_fn=<SliceBackward0>) \n",
            "\n",
            "Layer: linear_relu_stack.4.bias | Size: torch.Size([10]) | Values : tensor([-0.0298, -0.0246], device='cuda:0', grad_fn=<SliceBackward0>) \n",
            "\n"
          ]
        }
      ]
    },
    {
      "cell_type": "markdown",
      "metadata": {
        "id": "4Yh1qjzmDQV7"
      },
      "source": [
        "--------------\n",
        "\n",
        "\n"
      ]
    },
    {
      "cell_type": "markdown",
      "metadata": {
        "id": "ME7O9JTjDQV7"
      },
      "source": [
        "さらなる詳細\n",
        "--------------\n",
        "以下のページも参考ください。\n",
        "\n",
        "- [`torch.nn API`](https://pytorch.org/docs/stable/nn.html)\n",
        "\n"
      ]
    },
    {
      "cell_type": "markdown",
      "metadata": {
        "id": "Z3IHCW65X6tV"
      },
      "source": [
        "以上。"
      ]
    }
  ]
}