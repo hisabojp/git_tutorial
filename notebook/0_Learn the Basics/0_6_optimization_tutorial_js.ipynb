{
  "nbformat": 4,
  "nbformat_minor": 0,
  "metadata": {
    "kernelspec": {
      "display_name": "Python 3",
      "language": "python",
      "name": "python3"
    },
    "language_info": {
      "codemirror_mode": {
        "name": "ipython",
        "version": 3
      },
      "file_extension": ".py",
      "mimetype": "text/x-python",
      "name": "python",
      "nbconvert_exporter": "python",
      "pygments_lexer": "ipython3",
      "version": "3.6.12"
    },
    "colab": {
      "name": "0_6_optimization_tutorial_js.ipynb",
      "provenance": [],
      "toc_visible": true
    },
    "widgets": {
      "application/vnd.jupyter.widget-state+json": {
        "b9f1849748b443369cc9fbb27234367a": {
          "model_module": "@jupyter-widgets/controls",
          "model_name": "HBoxModel",
          "state": {
            "_view_name": "HBoxView",
            "_dom_classes": [],
            "_model_name": "HBoxModel",
            "_view_module": "@jupyter-widgets/controls",
            "_model_module_version": "1.5.0",
            "_view_count": null,
            "_view_module_version": "1.5.0",
            "box_style": "",
            "layout": "IPY_MODEL_c8dadbc06bd6448f991279838d008235",
            "_model_module": "@jupyter-widgets/controls",
            "children": [
              "IPY_MODEL_c191abb8dd264f3b95bd1794c38159e5",
              "IPY_MODEL_9efac0c9f5dc46f5bcbef47851834812"
            ]
          },
          "model_module_version": "1.5.0"
        },
        "c8dadbc06bd6448f991279838d008235": {
          "model_module": "@jupyter-widgets/base",
          "model_name": "LayoutModel",
          "state": {
            "_view_name": "LayoutView",
            "grid_template_rows": null,
            "right": null,
            "justify_content": null,
            "_view_module": "@jupyter-widgets/base",
            "overflow": null,
            "_model_module_version": "1.2.0",
            "_view_count": null,
            "flex_flow": null,
            "width": null,
            "min_width": null,
            "border": null,
            "align_items": null,
            "bottom": null,
            "_model_module": "@jupyter-widgets/base",
            "top": null,
            "grid_column": null,
            "overflow_y": null,
            "overflow_x": null,
            "grid_auto_flow": null,
            "grid_area": null,
            "grid_template_columns": null,
            "flex": null,
            "_model_name": "LayoutModel",
            "justify_items": null,
            "grid_row": null,
            "max_height": null,
            "align_content": null,
            "visibility": null,
            "align_self": null,
            "height": null,
            "min_height": null,
            "padding": null,
            "grid_auto_rows": null,
            "grid_gap": null,
            "max_width": null,
            "order": null,
            "_view_module_version": "1.2.0",
            "grid_template_areas": null,
            "object_position": null,
            "object_fit": null,
            "grid_auto_columns": null,
            "margin": null,
            "display": null,
            "left": null
          },
          "model_module_version": "1.2.0"
        },
        "c191abb8dd264f3b95bd1794c38159e5": {
          "model_module": "@jupyter-widgets/controls",
          "model_name": "FloatProgressModel",
          "state": {
            "_view_name": "ProgressView",
            "style": "IPY_MODEL_cabcc03f8c1949a5b7814f8c966b91b1",
            "_dom_classes": [],
            "description": "",
            "_model_name": "FloatProgressModel",
            "bar_style": "success",
            "max": 26421880,
            "_view_module": "@jupyter-widgets/controls",
            "_model_module_version": "1.5.0",
            "value": 26421880,
            "_view_count": null,
            "_view_module_version": "1.5.0",
            "orientation": "horizontal",
            "min": 0,
            "description_tooltip": null,
            "_model_module": "@jupyter-widgets/controls",
            "layout": "IPY_MODEL_b62ef5f6ebe94a08ab479b7bbfa48e79"
          },
          "model_module_version": "1.5.0"
        },
        "9efac0c9f5dc46f5bcbef47851834812": {
          "model_module": "@jupyter-widgets/controls",
          "model_name": "HTMLModel",
          "state": {
            "_view_name": "HTMLView",
            "style": "IPY_MODEL_c7491424e8184077aaabfc7404d03636",
            "_dom_classes": [],
            "description": "",
            "_model_name": "HTMLModel",
            "placeholder": "​",
            "_view_module": "@jupyter-widgets/controls",
            "_model_module_version": "1.5.0",
            "value": " 26422272/? [01:13&lt;00:00, 361147.47it/s]",
            "_view_count": null,
            "_view_module_version": "1.5.0",
            "description_tooltip": null,
            "_model_module": "@jupyter-widgets/controls",
            "layout": "IPY_MODEL_77ecbaa4ec064441b1c994ff3ea0ab53"
          },
          "model_module_version": "1.5.0"
        },
        "cabcc03f8c1949a5b7814f8c966b91b1": {
          "model_module": "@jupyter-widgets/controls",
          "model_name": "ProgressStyleModel",
          "state": {
            "_view_name": "StyleView",
            "_model_name": "ProgressStyleModel",
            "description_width": "initial",
            "_view_module": "@jupyter-widgets/base",
            "_model_module_version": "1.5.0",
            "_view_count": null,
            "_view_module_version": "1.2.0",
            "bar_color": null,
            "_model_module": "@jupyter-widgets/controls"
          },
          "model_module_version": "1.5.0"
        },
        "b62ef5f6ebe94a08ab479b7bbfa48e79": {
          "model_module": "@jupyter-widgets/base",
          "model_name": "LayoutModel",
          "state": {
            "_view_name": "LayoutView",
            "grid_template_rows": null,
            "right": null,
            "justify_content": null,
            "_view_module": "@jupyter-widgets/base",
            "overflow": null,
            "_model_module_version": "1.2.0",
            "_view_count": null,
            "flex_flow": null,
            "width": null,
            "min_width": null,
            "border": null,
            "align_items": null,
            "bottom": null,
            "_model_module": "@jupyter-widgets/base",
            "top": null,
            "grid_column": null,
            "overflow_y": null,
            "overflow_x": null,
            "grid_auto_flow": null,
            "grid_area": null,
            "grid_template_columns": null,
            "flex": null,
            "_model_name": "LayoutModel",
            "justify_items": null,
            "grid_row": null,
            "max_height": null,
            "align_content": null,
            "visibility": null,
            "align_self": null,
            "height": null,
            "min_height": null,
            "padding": null,
            "grid_auto_rows": null,
            "grid_gap": null,
            "max_width": null,
            "order": null,
            "_view_module_version": "1.2.0",
            "grid_template_areas": null,
            "object_position": null,
            "object_fit": null,
            "grid_auto_columns": null,
            "margin": null,
            "display": null,
            "left": null
          },
          "model_module_version": "1.2.0"
        },
        "c7491424e8184077aaabfc7404d03636": {
          "model_module": "@jupyter-widgets/controls",
          "model_name": "DescriptionStyleModel",
          "state": {
            "_view_name": "StyleView",
            "_model_name": "DescriptionStyleModel",
            "description_width": "",
            "_view_module": "@jupyter-widgets/base",
            "_model_module_version": "1.5.0",
            "_view_count": null,
            "_view_module_version": "1.2.0",
            "_model_module": "@jupyter-widgets/controls"
          },
          "model_module_version": "1.5.0"
        },
        "77ecbaa4ec064441b1c994ff3ea0ab53": {
          "model_module": "@jupyter-widgets/base",
          "model_name": "LayoutModel",
          "state": {
            "_view_name": "LayoutView",
            "grid_template_rows": null,
            "right": null,
            "justify_content": null,
            "_view_module": "@jupyter-widgets/base",
            "overflow": null,
            "_model_module_version": "1.2.0",
            "_view_count": null,
            "flex_flow": null,
            "width": null,
            "min_width": null,
            "border": null,
            "align_items": null,
            "bottom": null,
            "_model_module": "@jupyter-widgets/base",
            "top": null,
            "grid_column": null,
            "overflow_y": null,
            "overflow_x": null,
            "grid_auto_flow": null,
            "grid_area": null,
            "grid_template_columns": null,
            "flex": null,
            "_model_name": "LayoutModel",
            "justify_items": null,
            "grid_row": null,
            "max_height": null,
            "align_content": null,
            "visibility": null,
            "align_self": null,
            "height": null,
            "min_height": null,
            "padding": null,
            "grid_auto_rows": null,
            "grid_gap": null,
            "max_width": null,
            "order": null,
            "_view_module_version": "1.2.0",
            "grid_template_areas": null,
            "object_position": null,
            "object_fit": null,
            "grid_auto_columns": null,
            "margin": null,
            "display": null,
            "left": null
          },
          "model_module_version": "1.2.0"
        },
        "996ef5cdc87143b8b9a520fcf18ca410": {
          "model_module": "@jupyter-widgets/controls",
          "model_name": "HBoxModel",
          "state": {
            "_view_name": "HBoxView",
            "_dom_classes": [],
            "_model_name": "HBoxModel",
            "_view_module": "@jupyter-widgets/controls",
            "_model_module_version": "1.5.0",
            "_view_count": null,
            "_view_module_version": "1.5.0",
            "box_style": "",
            "layout": "IPY_MODEL_3c314f21d0254857977467dc5cf388d8",
            "_model_module": "@jupyter-widgets/controls",
            "children": [
              "IPY_MODEL_bcdb5187af674da6bf859f9022aa3187",
              "IPY_MODEL_65c8158f88434db186efb50e6d24e3d2"
            ]
          },
          "model_module_version": "1.5.0"
        },
        "3c314f21d0254857977467dc5cf388d8": {
          "model_module": "@jupyter-widgets/base",
          "model_name": "LayoutModel",
          "state": {
            "_view_name": "LayoutView",
            "grid_template_rows": null,
            "right": null,
            "justify_content": null,
            "_view_module": "@jupyter-widgets/base",
            "overflow": null,
            "_model_module_version": "1.2.0",
            "_view_count": null,
            "flex_flow": null,
            "width": null,
            "min_width": null,
            "border": null,
            "align_items": null,
            "bottom": null,
            "_model_module": "@jupyter-widgets/base",
            "top": null,
            "grid_column": null,
            "overflow_y": null,
            "overflow_x": null,
            "grid_auto_flow": null,
            "grid_area": null,
            "grid_template_columns": null,
            "flex": null,
            "_model_name": "LayoutModel",
            "justify_items": null,
            "grid_row": null,
            "max_height": null,
            "align_content": null,
            "visibility": null,
            "align_self": null,
            "height": null,
            "min_height": null,
            "padding": null,
            "grid_auto_rows": null,
            "grid_gap": null,
            "max_width": null,
            "order": null,
            "_view_module_version": "1.2.0",
            "grid_template_areas": null,
            "object_position": null,
            "object_fit": null,
            "grid_auto_columns": null,
            "margin": null,
            "display": null,
            "left": null
          },
          "model_module_version": "1.2.0"
        },
        "bcdb5187af674da6bf859f9022aa3187": {
          "model_module": "@jupyter-widgets/controls",
          "model_name": "FloatProgressModel",
          "state": {
            "_view_name": "ProgressView",
            "style": "IPY_MODEL_e983e8125a6b484bb22e34948fd848c2",
            "_dom_classes": [],
            "description": "",
            "_model_name": "FloatProgressModel",
            "bar_style": "success",
            "max": 29515,
            "_view_module": "@jupyter-widgets/controls",
            "_model_module_version": "1.5.0",
            "value": 29515,
            "_view_count": null,
            "_view_module_version": "1.5.0",
            "orientation": "horizontal",
            "min": 0,
            "description_tooltip": null,
            "_model_module": "@jupyter-widgets/controls",
            "layout": "IPY_MODEL_a576bed88b7042cf9c391c75a89b4468"
          },
          "model_module_version": "1.5.0"
        },
        "65c8158f88434db186efb50e6d24e3d2": {
          "model_module": "@jupyter-widgets/controls",
          "model_name": "HTMLModel",
          "state": {
            "_view_name": "HTMLView",
            "style": "IPY_MODEL_14f6c70d6e7b4777bb9ada2f4e727b20",
            "_dom_classes": [],
            "description": "",
            "_model_name": "HTMLModel",
            "placeholder": "​",
            "_view_module": "@jupyter-widgets/controls",
            "_model_module_version": "1.5.0",
            "value": " 29696/? [00:02&lt;00:00, 14316.40it/s]",
            "_view_count": null,
            "_view_module_version": "1.5.0",
            "description_tooltip": null,
            "_model_module": "@jupyter-widgets/controls",
            "layout": "IPY_MODEL_8bc0cbd50da64cff8104b8b73bf80a6c"
          },
          "model_module_version": "1.5.0"
        },
        "e983e8125a6b484bb22e34948fd848c2": {
          "model_module": "@jupyter-widgets/controls",
          "model_name": "ProgressStyleModel",
          "state": {
            "_view_name": "StyleView",
            "_model_name": "ProgressStyleModel",
            "description_width": "initial",
            "_view_module": "@jupyter-widgets/base",
            "_model_module_version": "1.5.0",
            "_view_count": null,
            "_view_module_version": "1.2.0",
            "bar_color": null,
            "_model_module": "@jupyter-widgets/controls"
          },
          "model_module_version": "1.5.0"
        },
        "a576bed88b7042cf9c391c75a89b4468": {
          "model_module": "@jupyter-widgets/base",
          "model_name": "LayoutModel",
          "state": {
            "_view_name": "LayoutView",
            "grid_template_rows": null,
            "right": null,
            "justify_content": null,
            "_view_module": "@jupyter-widgets/base",
            "overflow": null,
            "_model_module_version": "1.2.0",
            "_view_count": null,
            "flex_flow": null,
            "width": null,
            "min_width": null,
            "border": null,
            "align_items": null,
            "bottom": null,
            "_model_module": "@jupyter-widgets/base",
            "top": null,
            "grid_column": null,
            "overflow_y": null,
            "overflow_x": null,
            "grid_auto_flow": null,
            "grid_area": null,
            "grid_template_columns": null,
            "flex": null,
            "_model_name": "LayoutModel",
            "justify_items": null,
            "grid_row": null,
            "max_height": null,
            "align_content": null,
            "visibility": null,
            "align_self": null,
            "height": null,
            "min_height": null,
            "padding": null,
            "grid_auto_rows": null,
            "grid_gap": null,
            "max_width": null,
            "order": null,
            "_view_module_version": "1.2.0",
            "grid_template_areas": null,
            "object_position": null,
            "object_fit": null,
            "grid_auto_columns": null,
            "margin": null,
            "display": null,
            "left": null
          },
          "model_module_version": "1.2.0"
        },
        "14f6c70d6e7b4777bb9ada2f4e727b20": {
          "model_module": "@jupyter-widgets/controls",
          "model_name": "DescriptionStyleModel",
          "state": {
            "_view_name": "StyleView",
            "_model_name": "DescriptionStyleModel",
            "description_width": "",
            "_view_module": "@jupyter-widgets/base",
            "_model_module_version": "1.5.0",
            "_view_count": null,
            "_view_module_version": "1.2.0",
            "_model_module": "@jupyter-widgets/controls"
          },
          "model_module_version": "1.5.0"
        },
        "8bc0cbd50da64cff8104b8b73bf80a6c": {
          "model_module": "@jupyter-widgets/base",
          "model_name": "LayoutModel",
          "state": {
            "_view_name": "LayoutView",
            "grid_template_rows": null,
            "right": null,
            "justify_content": null,
            "_view_module": "@jupyter-widgets/base",
            "overflow": null,
            "_model_module_version": "1.2.0",
            "_view_count": null,
            "flex_flow": null,
            "width": null,
            "min_width": null,
            "border": null,
            "align_items": null,
            "bottom": null,
            "_model_module": "@jupyter-widgets/base",
            "top": null,
            "grid_column": null,
            "overflow_y": null,
            "overflow_x": null,
            "grid_auto_flow": null,
            "grid_area": null,
            "grid_template_columns": null,
            "flex": null,
            "_model_name": "LayoutModel",
            "justify_items": null,
            "grid_row": null,
            "max_height": null,
            "align_content": null,
            "visibility": null,
            "align_self": null,
            "height": null,
            "min_height": null,
            "padding": null,
            "grid_auto_rows": null,
            "grid_gap": null,
            "max_width": null,
            "order": null,
            "_view_module_version": "1.2.0",
            "grid_template_areas": null,
            "object_position": null,
            "object_fit": null,
            "grid_auto_columns": null,
            "margin": null,
            "display": null,
            "left": null
          },
          "model_module_version": "1.2.0"
        },
        "a07badc6380e40288591358a265a5623": {
          "model_module": "@jupyter-widgets/controls",
          "model_name": "HBoxModel",
          "state": {
            "_view_name": "HBoxView",
            "_dom_classes": [],
            "_model_name": "HBoxModel",
            "_view_module": "@jupyter-widgets/controls",
            "_model_module_version": "1.5.0",
            "_view_count": null,
            "_view_module_version": "1.5.0",
            "box_style": "",
            "layout": "IPY_MODEL_6e8209e67f5346a29455aa643ea67754",
            "_model_module": "@jupyter-widgets/controls",
            "children": [
              "IPY_MODEL_644858a009cf4e19951d82aef3e99be2",
              "IPY_MODEL_a1f0ee29b3194b61aa47a64b931c5d64"
            ]
          },
          "model_module_version": "1.5.0"
        },
        "6e8209e67f5346a29455aa643ea67754": {
          "model_module": "@jupyter-widgets/base",
          "model_name": "LayoutModel",
          "state": {
            "_view_name": "LayoutView",
            "grid_template_rows": null,
            "right": null,
            "justify_content": null,
            "_view_module": "@jupyter-widgets/base",
            "overflow": null,
            "_model_module_version": "1.2.0",
            "_view_count": null,
            "flex_flow": null,
            "width": null,
            "min_width": null,
            "border": null,
            "align_items": null,
            "bottom": null,
            "_model_module": "@jupyter-widgets/base",
            "top": null,
            "grid_column": null,
            "overflow_y": null,
            "overflow_x": null,
            "grid_auto_flow": null,
            "grid_area": null,
            "grid_template_columns": null,
            "flex": null,
            "_model_name": "LayoutModel",
            "justify_items": null,
            "grid_row": null,
            "max_height": null,
            "align_content": null,
            "visibility": null,
            "align_self": null,
            "height": null,
            "min_height": null,
            "padding": null,
            "grid_auto_rows": null,
            "grid_gap": null,
            "max_width": null,
            "order": null,
            "_view_module_version": "1.2.0",
            "grid_template_areas": null,
            "object_position": null,
            "object_fit": null,
            "grid_auto_columns": null,
            "margin": null,
            "display": null,
            "left": null
          },
          "model_module_version": "1.2.0"
        },
        "644858a009cf4e19951d82aef3e99be2": {
          "model_module": "@jupyter-widgets/controls",
          "model_name": "FloatProgressModel",
          "state": {
            "_view_name": "ProgressView",
            "style": "IPY_MODEL_d3c1c6781053492e8ad1dbaa29d30666",
            "_dom_classes": [],
            "description": "",
            "_model_name": "FloatProgressModel",
            "bar_style": "success",
            "max": 4422102,
            "_view_module": "@jupyter-widgets/controls",
            "_model_module_version": "1.5.0",
            "value": 4422102,
            "_view_count": null,
            "_view_module_version": "1.5.0",
            "orientation": "horizontal",
            "min": 0,
            "description_tooltip": null,
            "_model_module": "@jupyter-widgets/controls",
            "layout": "IPY_MODEL_3e7832279a5b4824bb068d6f9583d8e7"
          },
          "model_module_version": "1.5.0"
        },
        "a1f0ee29b3194b61aa47a64b931c5d64": {
          "model_module": "@jupyter-widgets/controls",
          "model_name": "HTMLModel",
          "state": {
            "_view_name": "HTMLView",
            "style": "IPY_MODEL_2804f6f3ec3c4bb2bc9e80fd7d3d0694",
            "_dom_classes": [],
            "description": "",
            "_model_name": "HTMLModel",
            "placeholder": "​",
            "_view_module": "@jupyter-widgets/controls",
            "_model_module_version": "1.5.0",
            "value": " 4422656/? [01:07&lt;00:00, 65596.92it/s]",
            "_view_count": null,
            "_view_module_version": "1.5.0",
            "description_tooltip": null,
            "_model_module": "@jupyter-widgets/controls",
            "layout": "IPY_MODEL_0f9c43c6d0524766b5f3bde3f11a59ef"
          },
          "model_module_version": "1.5.0"
        },
        "d3c1c6781053492e8ad1dbaa29d30666": {
          "model_module": "@jupyter-widgets/controls",
          "model_name": "ProgressStyleModel",
          "state": {
            "_view_name": "StyleView",
            "_model_name": "ProgressStyleModel",
            "description_width": "initial",
            "_view_module": "@jupyter-widgets/base",
            "_model_module_version": "1.5.0",
            "_view_count": null,
            "_view_module_version": "1.2.0",
            "bar_color": null,
            "_model_module": "@jupyter-widgets/controls"
          },
          "model_module_version": "1.5.0"
        },
        "3e7832279a5b4824bb068d6f9583d8e7": {
          "model_module": "@jupyter-widgets/base",
          "model_name": "LayoutModel",
          "state": {
            "_view_name": "LayoutView",
            "grid_template_rows": null,
            "right": null,
            "justify_content": null,
            "_view_module": "@jupyter-widgets/base",
            "overflow": null,
            "_model_module_version": "1.2.0",
            "_view_count": null,
            "flex_flow": null,
            "width": null,
            "min_width": null,
            "border": null,
            "align_items": null,
            "bottom": null,
            "_model_module": "@jupyter-widgets/base",
            "top": null,
            "grid_column": null,
            "overflow_y": null,
            "overflow_x": null,
            "grid_auto_flow": null,
            "grid_area": null,
            "grid_template_columns": null,
            "flex": null,
            "_model_name": "LayoutModel",
            "justify_items": null,
            "grid_row": null,
            "max_height": null,
            "align_content": null,
            "visibility": null,
            "align_self": null,
            "height": null,
            "min_height": null,
            "padding": null,
            "grid_auto_rows": null,
            "grid_gap": null,
            "max_width": null,
            "order": null,
            "_view_module_version": "1.2.0",
            "grid_template_areas": null,
            "object_position": null,
            "object_fit": null,
            "grid_auto_columns": null,
            "margin": null,
            "display": null,
            "left": null
          },
          "model_module_version": "1.2.0"
        },
        "2804f6f3ec3c4bb2bc9e80fd7d3d0694": {
          "model_module": "@jupyter-widgets/controls",
          "model_name": "DescriptionStyleModel",
          "state": {
            "_view_name": "StyleView",
            "_model_name": "DescriptionStyleModel",
            "description_width": "",
            "_view_module": "@jupyter-widgets/base",
            "_model_module_version": "1.5.0",
            "_view_count": null,
            "_view_module_version": "1.2.0",
            "_model_module": "@jupyter-widgets/controls"
          },
          "model_module_version": "1.5.0"
        },
        "0f9c43c6d0524766b5f3bde3f11a59ef": {
          "model_module": "@jupyter-widgets/base",
          "model_name": "LayoutModel",
          "state": {
            "_view_name": "LayoutView",
            "grid_template_rows": null,
            "right": null,
            "justify_content": null,
            "_view_module": "@jupyter-widgets/base",
            "overflow": null,
            "_model_module_version": "1.2.0",
            "_view_count": null,
            "flex_flow": null,
            "width": null,
            "min_width": null,
            "border": null,
            "align_items": null,
            "bottom": null,
            "_model_module": "@jupyter-widgets/base",
            "top": null,
            "grid_column": null,
            "overflow_y": null,
            "overflow_x": null,
            "grid_auto_flow": null,
            "grid_area": null,
            "grid_template_columns": null,
            "flex": null,
            "_model_name": "LayoutModel",
            "justify_items": null,
            "grid_row": null,
            "max_height": null,
            "align_content": null,
            "visibility": null,
            "align_self": null,
            "height": null,
            "min_height": null,
            "padding": null,
            "grid_auto_rows": null,
            "grid_gap": null,
            "max_width": null,
            "order": null,
            "_view_module_version": "1.2.0",
            "grid_template_areas": null,
            "object_position": null,
            "object_fit": null,
            "grid_auto_columns": null,
            "margin": null,
            "display": null,
            "left": null
          },
          "model_module_version": "1.2.0"
        },
        "b9fc3a95fe704949a5cd3e2236648642": {
          "model_module": "@jupyter-widgets/controls",
          "model_name": "HBoxModel",
          "state": {
            "_view_name": "HBoxView",
            "_dom_classes": [],
            "_model_name": "HBoxModel",
            "_view_module": "@jupyter-widgets/controls",
            "_model_module_version": "1.5.0",
            "_view_count": null,
            "_view_module_version": "1.5.0",
            "box_style": "",
            "layout": "IPY_MODEL_d6f42e26b79844e4b6c60249617fc969",
            "_model_module": "@jupyter-widgets/controls",
            "children": [
              "IPY_MODEL_30bab3b547eb4561ad0873cebf5b9d39",
              "IPY_MODEL_038ae77186134bcdb346d25d4346009a"
            ]
          },
          "model_module_version": "1.5.0"
        },
        "d6f42e26b79844e4b6c60249617fc969": {
          "model_module": "@jupyter-widgets/base",
          "model_name": "LayoutModel",
          "state": {
            "_view_name": "LayoutView",
            "grid_template_rows": null,
            "right": null,
            "justify_content": null,
            "_view_module": "@jupyter-widgets/base",
            "overflow": null,
            "_model_module_version": "1.2.0",
            "_view_count": null,
            "flex_flow": null,
            "width": null,
            "min_width": null,
            "border": null,
            "align_items": null,
            "bottom": null,
            "_model_module": "@jupyter-widgets/base",
            "top": null,
            "grid_column": null,
            "overflow_y": null,
            "overflow_x": null,
            "grid_auto_flow": null,
            "grid_area": null,
            "grid_template_columns": null,
            "flex": null,
            "_model_name": "LayoutModel",
            "justify_items": null,
            "grid_row": null,
            "max_height": null,
            "align_content": null,
            "visibility": null,
            "align_self": null,
            "height": null,
            "min_height": null,
            "padding": null,
            "grid_auto_rows": null,
            "grid_gap": null,
            "max_width": null,
            "order": null,
            "_view_module_version": "1.2.0",
            "grid_template_areas": null,
            "object_position": null,
            "object_fit": null,
            "grid_auto_columns": null,
            "margin": null,
            "display": null,
            "left": null
          },
          "model_module_version": "1.2.0"
        },
        "30bab3b547eb4561ad0873cebf5b9d39": {
          "model_module": "@jupyter-widgets/controls",
          "model_name": "FloatProgressModel",
          "state": {
            "_view_name": "ProgressView",
            "style": "IPY_MODEL_20c41169dbed41f4a37d31eb7a9eded9",
            "_dom_classes": [],
            "description": "",
            "_model_name": "FloatProgressModel",
            "bar_style": "success",
            "max": 5148,
            "_view_module": "@jupyter-widgets/controls",
            "_model_module_version": "1.5.0",
            "value": 5148,
            "_view_count": null,
            "_view_module_version": "1.5.0",
            "orientation": "horizontal",
            "min": 0,
            "description_tooltip": null,
            "_model_module": "@jupyter-widgets/controls",
            "layout": "IPY_MODEL_c4752e37d34f4bc4b732bb4bbc1380bd"
          },
          "model_module_version": "1.5.0"
        },
        "038ae77186134bcdb346d25d4346009a": {
          "model_module": "@jupyter-widgets/controls",
          "model_name": "HTMLModel",
          "state": {
            "_view_name": "HTMLView",
            "style": "IPY_MODEL_8abb864783ad46dd8355442a2df5eb69",
            "_dom_classes": [],
            "description": "",
            "_model_name": "HTMLModel",
            "placeholder": "​",
            "_view_module": "@jupyter-widgets/controls",
            "_model_module_version": "1.5.0",
            "value": " 6144/? [01:05&lt;00:00, 93.83it/s]",
            "_view_count": null,
            "_view_module_version": "1.5.0",
            "description_tooltip": null,
            "_model_module": "@jupyter-widgets/controls",
            "layout": "IPY_MODEL_ef7bfdf24b754ad6bcc09a72e74d1aef"
          },
          "model_module_version": "1.5.0"
        },
        "20c41169dbed41f4a37d31eb7a9eded9": {
          "model_module": "@jupyter-widgets/controls",
          "model_name": "ProgressStyleModel",
          "state": {
            "_view_name": "StyleView",
            "_model_name": "ProgressStyleModel",
            "description_width": "initial",
            "_view_module": "@jupyter-widgets/base",
            "_model_module_version": "1.5.0",
            "_view_count": null,
            "_view_module_version": "1.2.0",
            "bar_color": null,
            "_model_module": "@jupyter-widgets/controls"
          },
          "model_module_version": "1.5.0"
        },
        "c4752e37d34f4bc4b732bb4bbc1380bd": {
          "model_module": "@jupyter-widgets/base",
          "model_name": "LayoutModel",
          "state": {
            "_view_name": "LayoutView",
            "grid_template_rows": null,
            "right": null,
            "justify_content": null,
            "_view_module": "@jupyter-widgets/base",
            "overflow": null,
            "_model_module_version": "1.2.0",
            "_view_count": null,
            "flex_flow": null,
            "width": null,
            "min_width": null,
            "border": null,
            "align_items": null,
            "bottom": null,
            "_model_module": "@jupyter-widgets/base",
            "top": null,
            "grid_column": null,
            "overflow_y": null,
            "overflow_x": null,
            "grid_auto_flow": null,
            "grid_area": null,
            "grid_template_columns": null,
            "flex": null,
            "_model_name": "LayoutModel",
            "justify_items": null,
            "grid_row": null,
            "max_height": null,
            "align_content": null,
            "visibility": null,
            "align_self": null,
            "height": null,
            "min_height": null,
            "padding": null,
            "grid_auto_rows": null,
            "grid_gap": null,
            "max_width": null,
            "order": null,
            "_view_module_version": "1.2.0",
            "grid_template_areas": null,
            "object_position": null,
            "object_fit": null,
            "grid_auto_columns": null,
            "margin": null,
            "display": null,
            "left": null
          },
          "model_module_version": "1.2.0"
        },
        "8abb864783ad46dd8355442a2df5eb69": {
          "model_module": "@jupyter-widgets/controls",
          "model_name": "DescriptionStyleModel",
          "state": {
            "_view_name": "StyleView",
            "_model_name": "DescriptionStyleModel",
            "description_width": "",
            "_view_module": "@jupyter-widgets/base",
            "_model_module_version": "1.5.0",
            "_view_count": null,
            "_view_module_version": "1.2.0",
            "_model_module": "@jupyter-widgets/controls"
          },
          "model_module_version": "1.5.0"
        },
        "ef7bfdf24b754ad6bcc09a72e74d1aef": {
          "model_module": "@jupyter-widgets/base",
          "model_name": "LayoutModel",
          "state": {
            "_view_name": "LayoutView",
            "grid_template_rows": null,
            "right": null,
            "justify_content": null,
            "_view_module": "@jupyter-widgets/base",
            "overflow": null,
            "_model_module_version": "1.2.0",
            "_view_count": null,
            "flex_flow": null,
            "width": null,
            "min_width": null,
            "border": null,
            "align_items": null,
            "bottom": null,
            "_model_module": "@jupyter-widgets/base",
            "top": null,
            "grid_column": null,
            "overflow_y": null,
            "overflow_x": null,
            "grid_auto_flow": null,
            "grid_area": null,
            "grid_template_columns": null,
            "flex": null,
            "_model_name": "LayoutModel",
            "justify_items": null,
            "grid_row": null,
            "max_height": null,
            "align_content": null,
            "visibility": null,
            "align_self": null,
            "height": null,
            "min_height": null,
            "padding": null,
            "grid_auto_rows": null,
            "grid_gap": null,
            "max_width": null,
            "order": null,
            "_view_module_version": "1.2.0",
            "grid_template_areas": null,
            "object_position": null,
            "object_fit": null,
            "grid_auto_columns": null,
            "margin": null,
            "display": null,
            "left": null
          },
          "model_module_version": "1.2.0"
        }
      }
    }
  },
  "cells": [
    {
      "cell_type": "markdown",
      "metadata": {
        "id": "jiQpiJ4x4Dzi"
      },
      "source": [
        "「PyTorch入門  6. 最適化」\n",
        "===============================================================\n",
        "【原題】OPTIMIZING MODEL PARAMETERS\n",
        "\n",
        "【原著】\n",
        "[Suraj Subramanian](https://github.com/suraj813)、[Seth Juarez](https://github.com/sethjuarez/) 、[Cassie Breviu](https://github.com/cassieview/) 、[Dmitry Soshnikov](https://soshnikov.com/)、[Ari Bornstein](https://github.com/aribornstein/)\n",
        "\n",
        "\n",
        "【元URL】https://pytorch.org/tutorials/beginner/basics/optimization_tutorial.html\n",
        "\n",
        "【翻訳】電通国際情報サービスISID AIトランスフォーメーションセンター　小川 雄太郎\n",
        "\n",
        "【日付】2021年03月20日\n",
        "\n",
        "【チュトーリアル概要】\n",
        "\n",
        "本チュートリアルでは、オプティマイザー（Optimizer）を使用した、パラメータの最適化（≒学習）について解説を行います。\n",
        "\n",
        "---\n"
      ]
    },
    {
      "cell_type": "markdown",
      "metadata": {
        "id": "YPkyI-DJ38-R"
      },
      "source": [
        "パラメータの最適化\n",
        "===========================\n",
        "\n",
        "モデルとデータを用意できたので続いてはモデルを訓練、検証することで、データに対してモデルのパラメータを最適化し、テストを行います。\n",
        "\n",
        "\n"
      ]
    },
    {
      "cell_type": "markdown",
      "metadata": {
        "id": "ow4ZimTD48XR"
      },
      "source": [
        "モデルの訓練は反復的なプロセスとなります。\n",
        "\n",
        "各イテレーション（エポックと呼ばれます）で、モデルは出力を計算し、損失を求めます。そして各パラメータについて損失に対する偏微分の値を求めます。\n",
        "\n",
        "その後、勾配降下法に基づいてパラメータを最適化します。\n",
        "\n",
        "この最適化プロセスの流れについては、以下の動画も参考にご覧ください。\n",
        "\n",
        "- 動画：[backpropagation from 3Blue1Brown](https://www.youtube.com/watch?v=tIeHLnjs5U8)"
      ]
    },
    {
      "cell_type": "markdown",
      "metadata": {
        "id": "yz96ICKoEgie"
      },
      "source": [
        "---\n"
      ]
    },
    {
      "cell_type": "markdown",
      "metadata": {
        "id": "k0HPbxJy480B"
      },
      "source": [
        "コード準備\n",
        "-----------------\n",
        "入門シリーズの「2. データセットとデータローダー」および、「4. モデル構築」からコードを再利用します。\n"
      ]
    },
    {
      "cell_type": "code",
      "metadata": {
        "id": "u-QFvrJl38-L"
      },
      "source": [
        "%matplotlib inline"
      ],
      "execution_count": null,
      "outputs": []
    },
    {
      "cell_type": "code",
      "metadata": {
        "id": "wNpggd8W38-R",
        "colab": {
          "base_uri": "https://localhost:8080/",
          "height": 446,
          "referenced_widgets": [
            "b9f1849748b443369cc9fbb27234367a",
            "c8dadbc06bd6448f991279838d008235",
            "c191abb8dd264f3b95bd1794c38159e5",
            "9efac0c9f5dc46f5bcbef47851834812",
            "cabcc03f8c1949a5b7814f8c966b91b1",
            "b62ef5f6ebe94a08ab479b7bbfa48e79",
            "c7491424e8184077aaabfc7404d03636",
            "77ecbaa4ec064441b1c994ff3ea0ab53",
            "996ef5cdc87143b8b9a520fcf18ca410",
            "3c314f21d0254857977467dc5cf388d8",
            "bcdb5187af674da6bf859f9022aa3187",
            "65c8158f88434db186efb50e6d24e3d2",
            "e983e8125a6b484bb22e34948fd848c2",
            "a576bed88b7042cf9c391c75a89b4468",
            "14f6c70d6e7b4777bb9ada2f4e727b20",
            "8bc0cbd50da64cff8104b8b73bf80a6c",
            "a07badc6380e40288591358a265a5623",
            "6e8209e67f5346a29455aa643ea67754",
            "644858a009cf4e19951d82aef3e99be2",
            "a1f0ee29b3194b61aa47a64b931c5d64",
            "d3c1c6781053492e8ad1dbaa29d30666",
            "3e7832279a5b4824bb068d6f9583d8e7",
            "2804f6f3ec3c4bb2bc9e80fd7d3d0694",
            "0f9c43c6d0524766b5f3bde3f11a59ef",
            "b9fc3a95fe704949a5cd3e2236648642",
            "d6f42e26b79844e4b6c60249617fc969",
            "30bab3b547eb4561ad0873cebf5b9d39",
            "038ae77186134bcdb346d25d4346009a",
            "20c41169dbed41f4a37d31eb7a9eded9",
            "c4752e37d34f4bc4b732bb4bbc1380bd",
            "8abb864783ad46dd8355442a2df5eb69",
            "ef7bfdf24b754ad6bcc09a72e74d1aef"
          ]
        },
        "outputId": "1dae3030-7b32-4adf-bea4-364b69955628"
      },
      "source": [
        "import torch\n",
        "from torch import nn\n",
        "from torch.utils.data import DataLoader\n",
        "from torchvision import datasets\n",
        "from torchvision.transforms import ToTensor, Lambda\n",
        "\n",
        "training_data = datasets.FashionMNIST(\n",
        "    root=\"data\",\n",
        "    train=True,\n",
        "    download=True,\n",
        "    transform=ToTensor()\n",
        ")\n",
        "\n",
        "test_data = datasets.FashionMNIST(\n",
        "    root=\"data\",\n",
        "    train=False,\n",
        "    download=True,\n",
        "    transform=ToTensor()\n",
        ")\n",
        "\n",
        "train_dataloader = DataLoader(training_data, batch_size=64)\n",
        "test_dataloader = DataLoader(test_data, batch_size=64)\n",
        "\n",
        "class NeuralNetwork(nn.Module):\n",
        "    def __init__(self):\n",
        "        super(NeuralNetwork, self).__init__()\n",
        "        self.flatten = nn.Flatten()\n",
        "        self.linear_relu_stack = nn.Sequential(\n",
        "            nn.Linear(28*28, 512),\n",
        "            nn.ReLU(),\n",
        "            nn.Linear(512, 512),\n",
        "            nn.ReLU(),\n",
        "            nn.Linear(512, 10),\n",
        "            nn.ReLU()\n",
        "        )\n",
        "\n",
        "    def forward(self, x):\n",
        "        x = self.flatten(x)\n",
        "        logits = self.linear_relu_stack(x)\n",
        "        return logits\n",
        "\n",
        "model = NeuralNetwork()"
      ],
      "execution_count": null,
      "outputs": [
        {
          "output_type": "stream",
          "text": [
            "Downloading http://fashion-mnist.s3-website.eu-central-1.amazonaws.com/train-images-idx3-ubyte.gz to data/FashionMNIST/raw/train-images-idx3-ubyte.gz\n"
          ],
          "name": "stdout"
        },
        {
          "output_type": "display_data",
          "data": {
            "application/vnd.jupyter.widget-view+json": {
              "model_id": "b9f1849748b443369cc9fbb27234367a",
              "version_minor": 0,
              "version_major": 2
            },
            "text/plain": [
              "HBox(children=(FloatProgress(value=0.0, max=26421880.0), HTML(value='')))"
            ]
          },
          "metadata": {
            "tags": []
          }
        },
        {
          "output_type": "stream",
          "text": [
            "\n",
            "Extracting data/FashionMNIST/raw/train-images-idx3-ubyte.gz to data/FashionMNIST/raw\n",
            "Downloading http://fashion-mnist.s3-website.eu-central-1.amazonaws.com/train-labels-idx1-ubyte.gz to data/FashionMNIST/raw/train-labels-idx1-ubyte.gz\n"
          ],
          "name": "stdout"
        },
        {
          "output_type": "display_data",
          "data": {
            "application/vnd.jupyter.widget-view+json": {
              "model_id": "996ef5cdc87143b8b9a520fcf18ca410",
              "version_minor": 0,
              "version_major": 2
            },
            "text/plain": [
              "HBox(children=(FloatProgress(value=0.0, max=29515.0), HTML(value='')))"
            ]
          },
          "metadata": {
            "tags": []
          }
        },
        {
          "output_type": "stream",
          "text": [
            "\n",
            "Extracting data/FashionMNIST/raw/train-labels-idx1-ubyte.gz to data/FashionMNIST/raw\n",
            "Downloading http://fashion-mnist.s3-website.eu-central-1.amazonaws.com/t10k-images-idx3-ubyte.gz to data/FashionMNIST/raw/t10k-images-idx3-ubyte.gz\n"
          ],
          "name": "stdout"
        },
        {
          "output_type": "display_data",
          "data": {
            "application/vnd.jupyter.widget-view+json": {
              "model_id": "a07badc6380e40288591358a265a5623",
              "version_minor": 0,
              "version_major": 2
            },
            "text/plain": [
              "HBox(children=(FloatProgress(value=0.0, max=4422102.0), HTML(value='')))"
            ]
          },
          "metadata": {
            "tags": []
          }
        },
        {
          "output_type": "stream",
          "text": [
            "\n",
            "Extracting data/FashionMNIST/raw/t10k-images-idx3-ubyte.gz to data/FashionMNIST/raw\n",
            "Downloading http://fashion-mnist.s3-website.eu-central-1.amazonaws.com/t10k-labels-idx1-ubyte.gz to data/FashionMNIST/raw/t10k-labels-idx1-ubyte.gz\n"
          ],
          "name": "stdout"
        },
        {
          "output_type": "display_data",
          "data": {
            "application/vnd.jupyter.widget-view+json": {
              "model_id": "b9fc3a95fe704949a5cd3e2236648642",
              "version_minor": 0,
              "version_major": 2
            },
            "text/plain": [
              "HBox(children=(FloatProgress(value=0.0, max=5148.0), HTML(value='')))"
            ]
          },
          "metadata": {
            "tags": []
          }
        },
        {
          "output_type": "stream",
          "text": [
            "\n",
            "Extracting data/FashionMNIST/raw/t10k-labels-idx1-ubyte.gz to data/FashionMNIST/raw\n",
            "Processing...\n",
            "Done!\n"
          ],
          "name": "stdout"
        },
        {
          "output_type": "stream",
          "text": [
            "/usr/local/lib/python3.7/dist-packages/torchvision/datasets/mnist.py:479: UserWarning: The given NumPy array is not writeable, and PyTorch does not support non-writeable tensors. This means you can write to the underlying (supposedly non-writeable) NumPy array using the tensor. You may want to copy the array to protect its data or make it writeable before converting it to a tensor. This type of warning will be suppressed for the rest of this program. (Triggered internally at  /pytorch/torch/csrc/utils/tensor_numpy.cpp:143.)\n",
            "  return torch.from_numpy(parsed.astype(m[2], copy=False)).view(*s)\n"
          ],
          "name": "stderr"
        }
      ]
    },
    {
      "cell_type": "markdown",
      "metadata": {
        "id": "PidFXE1LEjR1"
      },
      "source": [
        "---\n",
        "\n"
      ]
    },
    {
      "cell_type": "markdown",
      "metadata": {
        "id": "CeozEcms38-S"
      },
      "source": [
        "ハイパーパラメータ\n",
        "-----------------\n",
        "\n",
        "ハイパーパラメータは、モデルの最適化プロセスを制御するためのパラメータです。\n",
        "\n",
        "ハイパーパラメータの値が異なると、モデルの学習や収束率に影響します（詳細なハイパーパラメータチューニングの解説は[こちら](https://pytorch.org/tutorials/beginner/hyperparameter_tuning_tutorial.html)をご覧ください）。\n",
        "\n"
      ]
    },
    {
      "cell_type": "markdown",
      "metadata": {
        "id": "6XWChnhIEtHH"
      },
      "source": [
        "\n",
        "今回は、訓練用のハイパーパラメータとして以下の値を使用します。\n",
        "\n",
        " - **Number of Epochs**：イテレーション回数\n",
        " - **Batch Size**：ミニバッチサイズを構成するデータ数\n",
        " - **Learning Rate**：パラメータ更新の係数。値が小さいと変化が少なく、大きすぎると訓練に失敗する可能性が生まれる\n",
        ""
      ]
    },
    {
      "cell_type": "code",
      "metadata": {
        "id": "gpay3IJz38-U"
      },
      "source": [
        "learning_rate = 1e-3\n",
        "batch_size = 64\n",
        "epochs = 5"
      ],
      "execution_count": null,
      "outputs": []
    },
    {
      "cell_type": "markdown",
      "metadata": {
        "id": "KW8AYLUtExtf"
      },
      "source": [
        "---\n"
      ]
    },
    {
      "cell_type": "markdown",
      "metadata": {
        "id": "Wx1bOwA_38-V"
      },
      "source": [
        "最適化ループ\n",
        "-----------------\n",
        "ハイパーパラメータを設定後、訓練で最適化のループを回すことで、モデルを最適化します。\n",
        "\n",
        "最適化ループの1回のイテレーションは、**エポック(epoch)**と呼ばれます。\n",
        "\n",
        "各エポックでは2種類のループから構成されます。\n",
        "\n",
        " - **訓練ループ**：データセットに対して訓練を実行し、パラメータを収束させます\n",
        "\n",
        " - **検証 / テストループ**：テストデータセットでモデルを評価し、性能が向上しているか確認します\n",
        "\n",
        "\n"
      ]
    },
    {
      "cell_type": "markdown",
      "metadata": {
        "id": "m8_uj3QLLxvT"
      },
      "source": [
        "訓練ループ内で使用される概念について、簡単に把握しておきましょう。\n",
        "\n",
        "本チュートリアルの最後には、最適化ループの完全な実装を紹介します。"
      ]
    },
    {
      "cell_type": "markdown",
      "metadata": {
        "id": "i7JihOQJLx4B"
      },
      "source": [
        "**損失関数：Loss Function**\n",
        "\n",
        "データが与えられても、訓練されていないネットワークは正しい答えを出力しない可能性があります。\n",
        "\n",
        "損失関数はモデルが推論した結果と、実際の正解との誤差の大きさを測定する関数です。訓練ではこの損失関数の値を小さくしていきます。\n",
        "\n",
        "損失を計算するためには、入力データに対するモデルの推論結果を求め、その値と正解のラベルとの違いを比較します。\n",
        "\n"
      ]
    },
    {
      "cell_type": "markdown",
      "metadata": {
        "id": "xbuOTl6wNm-7"
      },
      "source": [
        "一般的な損失関数としては、回帰タスクでは[`nn.MSELoss`](https://pytorch.org/docs/stable/generated/torch.nn.MSELoss.html#torch.nn.MSELoss)(Mean Square Error)、分類タスクでは[`nn.NLLLoss`](https://pytorch.org/docs/stable/generated/torch.nn.NLLLoss.html#torch.nn.NLLLoss)(Negative Log Likelihood) が使用されます。\n",
        "\n",
        "[`nn.CrossEntropyLoss`](https://pytorch.org/docs/stable/generated/torch.nn.CrossEntropyLoss.html#torch.nn.CrossEntropyLoss)は、``nn.LogSoftmax`` と ``nn.NLLLoss``を結合した損失関数となります。\n",
        "\n",
        "モデルが出力する`logit`値を`nn.CrossEntropyLoss`に与えて正規化し、予測誤差を求めます。"
      ]
    },
    {
      "cell_type": "code",
      "metadata": {
        "id": "ayTh0SOU38-W"
      },
      "source": [
        "# loss functionの初期化、定義\n",
        "loss_fn = nn.CrossEntropyLoss()"
      ],
      "execution_count": null,
      "outputs": []
    },
    {
      "cell_type": "markdown",
      "metadata": {
        "id": "TEUFRDx638-W"
      },
      "source": [
        "**最適化器：Optimizer**\n",
        "\n",
        "最適化は各訓練ステップにおいてモデルの誤差を小さくなるように、モデルパラメータを調整するプロセスです。\n",
        "\n",
        "<br>\n",
        "\n",
        "**最適化アルゴリズム：Optimization algorithms**\n",
        "\n",
        "最適化アルゴリズムは、最適化プロセスの具体的な手続きです（本チュートリアルでは確率的勾配降下法：Stochastic Gradient Descentを使用します）。\n",
        "\n",
        "最適化のロジックは全て``optimizer``オブジェクト内に隠ぺいされます。\n",
        "\n"
      ]
    },
    {
      "cell_type": "markdown",
      "metadata": {
        "id": "mB8RLaw3PQ3Z"
      },
      "source": [
        " 今回はSGD optimizerを使用します。ただし、最適化関数にはADAMやRMSPropなど、様々な種類があります。\n",
        "\n",
        " 詳細については、[こちら](https://pytorch.org/docs/stable/optim.html)を参照ください。\n",
        ""
      ]
    },
    {
      "cell_type": "markdown",
      "metadata": {
        "id": "EMwa7PPmFzjv"
      },
      "source": [
        "\n",
        "訓練したいモデルパラメータをoptimizerに登録し、合わせて学習率をハイパーパラメータとして渡すことで初期化を行います。\n",
        "\n",
        "\n"
      ]
    },
    {
      "cell_type": "code",
      "metadata": {
        "id": "FIH9ERrX38-X"
      },
      "source": [
        "optimizer = torch.optim.SGD(model.parameters(), lr=learning_rate)"
      ],
      "execution_count": null,
      "outputs": []
    },
    {
      "cell_type": "markdown",
      "metadata": {
        "id": "c53YLpx038-Y"
      },
      "source": [
        "訓練ループ内で、最適化（optimization）は3つのステップから構成されます。\n",
        "\n",
        "[1] ``optimizer.zero_grad()``を実行し、モデルパラメータの勾配をリセットします。\n",
        "\n",
        "勾配の計算は蓄積されていくので、毎イテレーション、明示的にリセットします。\n",
        "\n",
        "<br>\n",
        "\n",
        "[2] 続いて、``loss.backwards()``を実行し、バックプロパゲーションを実行します。\n",
        "\n",
        "PyTorchは損失に対する各パラメータの偏微分の値（勾配）を求めます。\n",
        "\n",
        "<br>\n",
        "\n",
        "[3] 最後に、``optimizer.step()``を実行し、各パラメータの勾配を使用してパラメータの値を調整します。\n",
        "\n"
      ]
    },
    {
      "cell_type": "markdown",
      "metadata": {
        "id": "T4vSCUCEGBEz"
      },
      "source": [
        "---\n"
      ]
    },
    {
      "cell_type": "markdown",
      "metadata": {
        "id": "Ulov18zc38-Y"
      },
      "source": [
        "実装全体：Full Implementation\n",
        "-----------------------\n",
        "最適化を実行するコードをループする``train_loop``と、テストデータに対してモデルの性能を評価する``test_loop``を定義します。\n",
        "\n",
        "\n"
      ]
    },
    {
      "cell_type": "code",
      "metadata": {
        "id": "qVvdppwu38-Z"
      },
      "source": [
        "def train_loop(dataloader, model, loss_fn, optimizer):\n",
        "    size = len(dataloader.dataset)\n",
        "    for batch, (X, y) in enumerate(dataloader):\n",
        "        # 予測と損失の計算\n",
        "        pred = model(X)\n",
        "        loss = loss_fn(pred, y)\n",
        "\n",
        "        # バックプロパゲーション\n",
        "        optimizer.zero_grad()\n",
        "        loss.backward()\n",
        "        optimizer.step()\n",
        "\n",
        "        if batch % 100 == 0:\n",
        "            loss, current = loss.item(), batch * len(X)\n",
        "            print(f\"loss: {loss:>7f}  [{current:>5d}/{size:>5d}]\")\n",
        "\n",
        "\n",
        "def test_loop(dataloader, model, loss_fn):\n",
        "    size = len(dataloader.dataset)\n",
        "    test_loss, correct = 0, 0\n",
        "\n",
        "    with torch.no_grad():\n",
        "        for X, y in dataloader:\n",
        "            pred = model(X)\n",
        "            test_loss += loss_fn(pred, y).item()\n",
        "            correct += (pred.argmax(1) == y).type(torch.float).sum().item()\n",
        "\n",
        "    test_loss /= size\n",
        "    correct /= size\n",
        "    print(f\"Test Error: \\n Accuracy: {(100*correct):>0.1f}%, Avg loss: {test_loss:>8f} \\n\")"
      ],
      "execution_count": null,
      "outputs": []
    },
    {
      "cell_type": "markdown",
      "metadata": {
        "id": "3Pq-tYFz38-Z"
      },
      "source": [
        "損失関数とoptimizerを初期化し、それを ``train_loop`` と ``test_loop`` に渡します。\n",
        "\n",
        "<br>\n",
        "\n",
        "以下の実装例において、モデルの性能を向上させるために、`epoch`数は自由に変えてみてください。\n",
        "\n",
        "\n",
        "\n"
      ]
    },
    {
      "cell_type": "code",
      "metadata": {
        "id": "bhpe8Lia38-Z",
        "colab": {
          "base_uri": "https://localhost:8080/"
        },
        "outputId": "2b0ec6b0-3a6f-49b3-9d9a-881d666d1ef5"
      },
      "source": [
        "loss_fn = nn.CrossEntropyLoss()\n",
        "optimizer = torch.optim.SGD(model.parameters(), lr=learning_rate)\n",
        "\n",
        "epochs = 10\n",
        "for t in range(epochs):\n",
        "    print(f\"Epoch {t+1}\\n-------------------------------\")\n",
        "    train_loop(train_dataloader, model, loss_fn, optimizer)\n",
        "    test_loop(test_dataloader, model, loss_fn)\n",
        "print(\"Done!\")"
      ],
      "execution_count": null,
      "outputs": [
        {
          "output_type": "stream",
          "text": [
            "Epoch 1\n",
            "-------------------------------\n",
            "loss: 2.304568  [    0/60000]\n",
            "loss: 2.301557  [ 6400/60000]\n",
            "loss: 2.291586  [12800/60000]\n",
            "loss: 2.284993  [19200/60000]\n",
            "loss: 2.272847  [25600/60000]\n",
            "loss: 2.264585  [32000/60000]\n",
            "loss: 2.278295  [38400/60000]\n",
            "loss: 2.260727  [44800/60000]\n",
            "loss: 2.262039  [51200/60000]\n",
            "loss: 2.237576  [57600/60000]\n",
            "Test Error: \n",
            " Accuracy: 34.4%, Avg loss: 0.035269 \n",
            "\n",
            "Epoch 2\n",
            "-------------------------------\n",
            "loss: 2.266718  [    0/60000]\n",
            "loss: 2.257207  [ 6400/60000]\n",
            "loss: 2.242595  [12800/60000]\n",
            "loss: 2.240602  [19200/60000]\n",
            "loss: 2.190395  [25600/60000]\n",
            "loss: 2.192866  [32000/60000]\n",
            "loss: 2.221788  [38400/60000]\n",
            "loss: 2.184941  [44800/60000]\n",
            "loss: 2.187555  [51200/60000]\n",
            "loss: 2.159560  [57600/60000]\n",
            "Test Error: \n",
            " Accuracy: 36.9%, Avg loss: 0.033832 \n",
            "\n",
            "Epoch 3\n",
            "-------------------------------\n",
            "loss: 2.193260  [    0/60000]\n",
            "loss: 2.161435  [ 6400/60000]\n",
            "loss: 2.118552  [12800/60000]\n",
            "loss: 2.133410  [19200/60000]\n",
            "loss: 2.033287  [25600/60000]\n",
            "loss: 2.051484  [32000/60000]\n",
            "loss: 2.107544  [38400/60000]\n",
            "loss: 2.034562  [44800/60000]\n",
            "loss: 2.046951  [51200/60000]\n",
            "loss: 2.031325  [57600/60000]\n",
            "Test Error: \n",
            " Accuracy: 38.3%, Avg loss: 0.031261 \n",
            "\n",
            "Epoch 4\n",
            "-------------------------------\n",
            "loss: 2.056879  [    0/60000]\n",
            "loss: 1.990355  [ 6400/60000]\n",
            "loss: 1.911940  [12800/60000]\n",
            "loss: 1.963883  [19200/60000]\n",
            "loss: 1.805866  [25600/60000]\n",
            "loss: 1.858948  [32000/60000]\n",
            "loss: 1.958336  [38400/60000]\n",
            "loss: 1.850322  [44800/60000]\n",
            "loss: 1.877860  [51200/60000]\n",
            "loss: 1.900923  [57600/60000]\n",
            "Test Error: \n",
            " Accuracy: 46.7%, Avg loss: 0.028436 \n",
            "\n",
            "Epoch 5\n",
            "-------------------------------\n",
            "loss: 1.902853  [    0/60000]\n",
            "loss: 1.806532  [ 6400/60000]\n",
            "loss: 1.703594  [12800/60000]\n",
            "loss: 1.804330  [19200/60000]\n",
            "loss: 1.610781  [25600/60000]\n",
            "loss: 1.699996  [32000/60000]\n",
            "loss: 1.834617  [38400/60000]\n",
            "loss: 1.711799  [44800/60000]\n",
            "loss: 1.740380  [51200/60000]\n",
            "loss: 1.810726  [57600/60000]\n",
            "Test Error: \n",
            " Accuracy: 53.5%, Avg loss: 0.026318 \n",
            "\n",
            "Epoch 6\n",
            "-------------------------------\n",
            "loss: 1.773794  [    0/60000]\n",
            "loss: 1.668828  [ 6400/60000]\n",
            "loss: 1.544228  [12800/60000]\n",
            "loss: 1.693585  [19200/60000]\n",
            "loss: 1.476874  [25600/60000]\n",
            "loss: 1.586178  [32000/60000]\n",
            "loss: 1.739542  [38400/60000]\n",
            "loss: 1.612905  [44800/60000]\n",
            "loss: 1.635378  [51200/60000]\n",
            "loss: 1.740324  [57600/60000]\n",
            "Test Error: \n",
            " Accuracy: 56.8%, Avg loss: 0.024745 \n",
            "\n",
            "Epoch 7\n",
            "-------------------------------\n",
            "loss: 1.669946  [    0/60000]\n",
            "loss: 1.569386  [ 6400/60000]\n",
            "loss: 1.422041  [12800/60000]\n",
            "loss: 1.609000  [19200/60000]\n",
            "loss: 1.379347  [25600/60000]\n",
            "loss: 1.500004  [32000/60000]\n",
            "loss: 1.665772  [38400/60000]\n",
            "loss: 1.538614  [44800/60000]\n",
            "loss: 1.554731  [51200/60000]\n",
            "loss: 1.684841  [57600/60000]\n",
            "Test Error: \n",
            " Accuracy: 58.1%, Avg loss: 0.023533 \n",
            "\n",
            "Epoch 8\n",
            "-------------------------------\n",
            "loss: 1.587800  [    0/60000]\n",
            "loss: 1.496115  [ 6400/60000]\n",
            "loss: 1.325578  [12800/60000]\n",
            "loss: 1.539307  [19200/60000]\n",
            "loss: 1.307962  [25600/60000]\n",
            "loss: 1.434174  [32000/60000]\n",
            "loss: 1.609863  [38400/60000]\n",
            "loss: 1.483990  [44800/60000]\n",
            "loss: 1.491577  [51200/60000]\n",
            "loss: 1.642921  [57600/60000]\n",
            "Test Error: \n",
            " Accuracy: 59.1%, Avg loss: 0.022607 \n",
            "\n",
            "Epoch 9\n",
            "-------------------------------\n",
            "loss: 1.523828  [    0/60000]\n",
            "loss: 1.441160  [ 6400/60000]\n",
            "loss: 1.250425  [12800/60000]\n",
            "loss: 1.483303  [19200/60000]\n",
            "loss: 1.255319  [25600/60000]\n",
            "loss: 1.382149  [32000/60000]\n",
            "loss: 1.566745  [38400/60000]\n",
            "loss: 1.441864  [44800/60000]\n",
            "loss: 1.443685  [51200/60000]\n",
            "loss: 1.610611  [57600/60000]\n",
            "Test Error: \n",
            " Accuracy: 59.6%, Avg loss: 0.021893 \n",
            "\n",
            "Epoch 10\n",
            "-------------------------------\n",
            "loss: 1.472739  [    0/60000]\n",
            "loss: 1.398461  [ 6400/60000]\n",
            "loss: 1.192398  [12800/60000]\n",
            "loss: 1.438026  [19200/60000]\n",
            "loss: 1.215621  [25600/60000]\n",
            "loss: 1.340659  [32000/60000]\n",
            "loss: 1.531828  [38400/60000]\n",
            "loss: 1.409429  [44800/60000]\n",
            "loss: 1.405748  [51200/60000]\n",
            "loss: 1.584560  [57600/60000]\n",
            "Test Error: \n",
            " Accuracy: 60.3%, Avg loss: 0.021334 \n",
            "\n",
            "Done!\n"
          ],
          "name": "stdout"
        }
      ]
    },
    {
      "cell_type": "markdown",
      "metadata": {
        "id": "tiEF7C4Y38-Z"
      },
      "source": [
        "さらなる詳細\n",
        "--------------\n",
        "以下のページも参考ください。\n",
        "\n",
        "- [`Loss Functions](https://pytorch.org/docs/stable/nn.html#loss-functions)\n",
        "- [`torch.optim](https://pytorch.org/docs/stable/optim.html)\n",
        "- [`Warmstart Training a Model](https://pytorch.org/tutorials/recipes/recipes/warmstarting_model_using_parameters_from_a_different_model.html)\n",
        "\n",
        "\n"
      ]
    },
    {
      "cell_type": "markdown",
      "metadata": {
        "id": "hrbzhvZTS2zq"
      },
      "source": [
        "以上。"
      ]
    }
  ]
}