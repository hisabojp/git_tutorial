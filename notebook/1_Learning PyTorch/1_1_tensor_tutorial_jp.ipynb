{
  "nbformat": 4,
  "nbformat_minor": 0,
  "metadata": {
    "kernelspec": {
      "display_name": "Python 3",
      "language": "python",
      "name": "python3"
    },
    "language_info": {
      "codemirror_mode": {
        "name": "ipython",
        "version": 3
      },
      "file_extension": ".py",
      "mimetype": "text/x-python",
      "name": "python",
      "nbconvert_exporter": "python",
      "pygments_lexer": "ipython3",
      "version": "3.6.8"
    },
    "colab": {
      "name": "1_1_tensor_tutorial_jp.ipynb",
      "provenance": [],
      "toc_visible": true
    },
    "accelerator": "GPU"
  },
  "cells": [
    {
      "cell_type": "markdown",
      "metadata": {
        "id": "2UbJrC7Fq43T"
      },
      "source": [
        "「PyTorchとは？」\n",
        "===============================================================\n",
        "【原題】What is PyTorch?\n",
        "\n",
        "【原著】[Soumith Chintala](http://soumith.ch/)\n",
        "\n",
        "【元URL】https://pytorch.org/tutorials/beginner/blitz/tensor_tutorial.html\n",
        "\n",
        "【翻訳】電通国際情報サービスISID AIトランスフォーメーションセンター　徳原 光\n",
        "\n",
        "【日付】2020年10月13日\n",
        "\n",
        "【チュトーリアル概要】\n",
        "\n",
        "本チュートリアルでは、PyTorchでの演算処理に用いるTorch Tensorについて、その操作方法を解説します。\n",
        "\n",
        "---\n"
      ]
    },
    {
      "cell_type": "markdown",
      "metadata": {
        "id": "zl9avtaZAMR-"
      },
      "source": [
        "\n",
        "PyTorchとは？\n",
        "================\n",
        "\n",
        "PyTorchはPythonをベースとした科学計算ライブラリです。\n",
        "\n",
        "PyTorchは以下に示す2つの機能を使用したいユーザーを対象としています。\n",
        "\n",
        "- Numpyベースの演算の代わりに、GPUを用いた高速な演算の実施\n",
        "- 高い柔軟性と実行速度を有したディープラーニングのプラットフォーム\n"
      ]
    },
    {
      "cell_type": "markdown",
      "metadata": {
        "id": "pU-27_tSYy0b"
      },
      "source": [
        "\n",
        "\n",
        "Tensors（テンソル）\n",
        "-------------\n",
        "\n",
        "TensorはNumPy ndarraysのような多次元配列です。\n",
        "\n",
        "PyTorchにおいてテンソルはGPU上でも使用できるため、処理速度の向上させることも可能です。"
      ]
    },
    {
      "cell_type": "code",
      "metadata": {
        "id": "BPEmNafrDUT3"
      },
      "source": [
        "%matplotlib inline"
      ],
      "execution_count": 1,
      "outputs": []
    },
    {
      "cell_type": "code",
      "metadata": {
        "id": "x9tnynuYAMR_"
      },
      "source": [
        "from __future__ import print_function\n",
        "import torch"
      ],
      "execution_count": 2,
      "outputs": []
    },
    {
      "cell_type": "markdown",
      "metadata": {
        "id": "AAtJYu0nAMSF"
      },
      "source": [
        "【注意】\n",
        "\n",
        "初期化されていない行列が宣言・作成されても、実際に使用されるまで明確な値は保有していません。\n",
        "\n",
        "宣言時にメモリ上の割り当てられた適当な値が初期値として入っています。\n",
        "\n",
        "\n"
      ]
    },
    {
      "cell_type": "markdown",
      "metadata": {
        "id": "VZy0JcQ6AMSG"
      },
      "source": [
        "初期化されていない、3×5行列を生成してみましょう：\n",
        "\n"
      ]
    },
    {
      "cell_type": "code",
      "metadata": {
        "id": "z4d_varHAMSH",
        "colab": {
          "base_uri": "https://localhost:8080/"
        },
        "outputId": "e62e11b4-a1f6-44c8-cfe7-db6233ebe863"
      },
      "source": [
        "x = torch.empty(5, 3)\n",
        "print(x)"
      ],
      "execution_count": 3,
      "outputs": [
        {
          "output_type": "stream",
          "name": "stdout",
          "text": [
            "tensor([[3.3631e-44, 4.4540e-41, 1.3895e-38],\n",
            "        [0.0000e+00, 2.8026e-45, 4.4540e-41],\n",
            "        [1.2737e+37, 4.4540e-41, 2.8026e-45],\n",
            "        [0.0000e+00, 2.8026e-45, 7.0065e-45],\n",
            "        [1.5723e-42, 4.4540e-41, 1.5808e-34]])\n"
          ]
        }
      ]
    },
    {
      "cell_type": "markdown",
      "metadata": {
        "id": "rW-q-OY_AMSJ"
      },
      "source": [
        "次に、乱数によって初期化された3x5行列を生成してみましょう:\n",
        "\n"
      ]
    },
    {
      "cell_type": "code",
      "metadata": {
        "id": "Fk6NU9oIAMSK",
        "colab": {
          "base_uri": "https://localhost:8080/"
        },
        "outputId": "36f0ca42-d9ee-4c73-d613-369c9a3549f8"
      },
      "source": [
        "x = torch.rand(5, 3)\n",
        "print(x)"
      ],
      "execution_count": 4,
      "outputs": [
        {
          "output_type": "stream",
          "name": "stdout",
          "text": [
            "tensor([[0.0815, 0.4864, 0.1034],\n",
            "        [0.9032, 0.3536, 0.7044],\n",
            "        [0.6394, 0.6607, 0.0409],\n",
            "        [0.6587, 0.9123, 0.4492],\n",
            "        [0.5838, 0.4220, 0.3513]])\n"
          ]
        }
      ]
    },
    {
      "cell_type": "markdown",
      "metadata": {
        "id": "3BEWXROCAMSM"
      },
      "source": [
        "long型の数値0で初期化された行列を生成する場合は次の通りです。\n",
        "\n"
      ]
    },
    {
      "cell_type": "code",
      "metadata": {
        "id": "jAUBy1bDAMSN",
        "colab": {
          "base_uri": "https://localhost:8080/"
        },
        "outputId": "a9e50d3b-dd44-4861-b86e-059ed5b5a548"
      },
      "source": [
        "x = torch.zeros(5, 3, dtype=torch.long)\n",
        "print(x)"
      ],
      "execution_count": 5,
      "outputs": [
        {
          "output_type": "stream",
          "name": "stdout",
          "text": [
            "tensor([[0, 0, 0],\n",
            "        [0, 0, 0],\n",
            "        [0, 0, 0],\n",
            "        [0, 0, 0],\n",
            "        [0, 0, 0]])\n"
          ]
        }
      ]
    },
    {
      "cell_type": "markdown",
      "metadata": {
        "id": "eNMp7LS4AMSR"
      },
      "source": [
        "直接、数値を指定して行列を生成することもできます。\n",
        "\n"
      ]
    },
    {
      "cell_type": "code",
      "metadata": {
        "id": "WuSmaoLnAMSR",
        "colab": {
          "base_uri": "https://localhost:8080/"
        },
        "outputId": "2a685cc9-3e65-49c0-f666-ba6c785927f8"
      },
      "source": [
        "x = torch.tensor([5.5, 3])\n",
        "print(x)"
      ],
      "execution_count": 6,
      "outputs": [
        {
          "output_type": "stream",
          "name": "stdout",
          "text": [
            "tensor([5.5000, 3.0000])\n"
          ]
        }
      ]
    },
    {
      "cell_type": "markdown",
      "metadata": {
        "id": "KgBDdfF6AMSU"
      },
      "source": [
        "その他に、すでにあるtensorをもとに、新しくtensorを生成することもできます。\n",
        "\n",
        "本メソッドで生成したテンソルは、テンソルの特性（例えばデータ型：dtypeなど）を、もとのtensorから引き継ぎます（ユーザーが値や特性を直接上書きしない限り）。"
      ]
    },
    {
      "cell_type": "code",
      "metadata": {
        "id": "3P_cXyNZAMSU",
        "colab": {
          "base_uri": "https://localhost:8080/"
        },
        "outputId": "15cf39c3-31df-4390-f768-25152d9d5ebc"
      },
      "source": [
        "x = x.new_ones(5, 3, dtype=torch.double)      # new_* methods take in sizes\n",
        "print(x)\n",
        "\n",
        "x = torch.randn_like(x, dtype=torch.float)    # override dtype!\n",
        "print(x)                                      # result has the same size"
      ],
      "execution_count": 7,
      "outputs": [
        {
          "output_type": "stream",
          "name": "stdout",
          "text": [
            "tensor([[1., 1., 1.],\n",
            "        [1., 1., 1.],\n",
            "        [1., 1., 1.],\n",
            "        [1., 1., 1.],\n",
            "        [1., 1., 1.]], dtype=torch.float64)\n",
            "tensor([[-0.7075,  0.7391,  0.7074],\n",
            "        [ 0.8176,  0.0511,  0.1758],\n",
            "        [ 0.7926, -2.3478,  0.4809],\n",
            "        [ 1.4533,  0.4572,  0.1603],\n",
            "        [ 0.1666,  0.1943,  0.3554]])\n"
          ]
        }
      ]
    },
    {
      "cell_type": "markdown",
      "metadata": {
        "id": "cLygdY1nAMSX"
      },
      "source": [
        "テンソルサイズ（size）≒テンソルの形、を求めてみます。\n",
        "\n"
      ]
    },
    {
      "cell_type": "code",
      "metadata": {
        "id": "CEwFrYkgAMSX",
        "colab": {
          "base_uri": "https://localhost:8080/"
        },
        "outputId": "efd81699-c437-41a3-8503-8aea0d23d94a"
      },
      "source": [
        "print(x.size())"
      ],
      "execution_count": 8,
      "outputs": [
        {
          "output_type": "stream",
          "name": "stdout",
          "text": [
            "torch.Size([5, 3])\n"
          ]
        }
      ]
    },
    {
      "cell_type": "markdown",
      "metadata": {
        "id": "SOB44xlLWtKQ"
      },
      "source": [
        "【メモ】\n",
        "\n",
        "``torch.Size``はタプルとなっているため、Pythonの通常のタプルと同様の操作が可能です。"
      ]
    },
    {
      "cell_type": "markdown",
      "metadata": {
        "id": "2029dArbAMSZ"
      },
      "source": [
        "**テンソルの操作（変形・変換等）**\n",
        "\n",
        "\n",
        "PyTorchにはテンソルに対する操作（変形・変換等）が多く用意されています。\n",
        "\n",
        "ここで、tensorを操作（変形・変換等）する追加の例を紹介します。\n",
        "\n"
      ]
    },
    {
      "cell_type": "markdown",
      "metadata": {
        "id": "8I41xxUFXmtP"
      },
      "source": [
        "補足: 用例1"
      ]
    },
    {
      "cell_type": "code",
      "metadata": {
        "id": "g4OnVKj5AMSa",
        "colab": {
          "base_uri": "https://localhost:8080/"
        },
        "outputId": "c87ff059-ec5c-42a1-d98c-c08c2a332d43"
      },
      "source": [
        "y = torch.rand(5, 3)\n",
        "print(x + y)"
      ],
      "execution_count": 9,
      "outputs": [
        {
          "output_type": "stream",
          "name": "stdout",
          "text": [
            "tensor([[-0.6339,  1.5048,  1.0124],\n",
            "        [ 1.2743,  0.5794,  0.2122],\n",
            "        [ 1.7547, -1.8179,  0.4868],\n",
            "        [ 1.7997,  1.3351,  0.4665],\n",
            "        [ 0.7307,  1.1891,  1.3447]])\n"
          ]
        }
      ]
    },
    {
      "cell_type": "markdown",
      "metadata": {
        "id": "dznbfngYAMSc"
      },
      "source": [
        "補足: 用例2\n",
        "\n"
      ]
    },
    {
      "cell_type": "code",
      "metadata": {
        "id": "s_YL8Q8nAMSd",
        "colab": {
          "base_uri": "https://localhost:8080/"
        },
        "outputId": "22c90462-ad30-4434-fb01-857091cca5e6"
      },
      "source": [
        "print(torch.add(x, y))"
      ],
      "execution_count": 10,
      "outputs": [
        {
          "output_type": "stream",
          "name": "stdout",
          "text": [
            "tensor([[-0.6339,  1.5048,  1.0124],\n",
            "        [ 1.2743,  0.5794,  0.2122],\n",
            "        [ 1.7547, -1.8179,  0.4868],\n",
            "        [ 1.7997,  1.3351,  0.4665],\n",
            "        [ 0.7307,  1.1891,  1.3447]])\n"
          ]
        }
      ]
    },
    {
      "cell_type": "markdown",
      "metadata": {
        "id": "UEjgcYv_AMSe"
      },
      "source": [
        "補足: 出力先を引数で指定\n",
        "\n"
      ]
    },
    {
      "cell_type": "code",
      "metadata": {
        "id": "PQCoVYYEAMSf",
        "colab": {
          "base_uri": "https://localhost:8080/"
        },
        "outputId": "e12cb50b-14e9-4118-fd6b-20f45fd7bd2d"
      },
      "source": [
        "result = torch.empty(5, 3)\n",
        "torch.add(x, y, out=result)\n",
        "print(result)"
      ],
      "execution_count": 11,
      "outputs": [
        {
          "output_type": "stream",
          "name": "stdout",
          "text": [
            "tensor([[-0.6339,  1.5048,  1.0124],\n",
            "        [ 1.2743,  0.5794,  0.2122],\n",
            "        [ 1.7547, -1.8179,  0.4868],\n",
            "        [ 1.7997,  1.3351,  0.4665],\n",
            "        [ 0.7307,  1.1891,  1.3447]])\n"
          ]
        }
      ]
    },
    {
      "cell_type": "markdown",
      "metadata": {
        "id": "fIE94xsPAMSj"
      },
      "source": [
        "補足：テンソルそのものの変更（in-place：インプレース処理）\n",
        "\n"
      ]
    },
    {
      "cell_type": "code",
      "metadata": {
        "id": "ZF6MQ32FAMSk",
        "colab": {
          "base_uri": "https://localhost:8080/"
        },
        "outputId": "88107002-ab78-4e66-ce3b-ce9f0c285e8a"
      },
      "source": [
        "# adds x to y\n",
        "y.add_(x)\n",
        "print(y)"
      ],
      "execution_count": 15,
      "outputs": [
        {
          "output_type": "stream",
          "name": "stdout",
          "text": [
            "tensor([[-1.3414,  2.2438,  1.7198],\n",
            "        [ 2.0919,  0.6305,  0.3879],\n",
            "        [ 2.5472, -4.1656,  0.9677],\n",
            "        [ 3.2530,  1.7923,  0.6267],\n",
            "        [ 0.8972,  1.3834,  1.7001]])\n"
          ]
        }
      ]
    },
    {
      "cell_type": "markdown",
      "metadata": {
        "id": "ltaptXLKAMSm"
      },
      "source": [
        "【メモ】\n",
        "\n",
        "メソッド名の後に``_``をつけることで、変数の内容を出力結果で置き換えることができます。\n",
        "\n",
        "例えば、``y.add_(x)``の場合xとyの値を加算した結果はyに上書きして、格納されます。"
      ]
    },
    {
      "cell_type": "markdown",
      "metadata": {
        "id": "9ylKCEeObFO8"
      },
      "source": [
        "NumPyと同様、インデクシングやスライシングを行うことも可能です。"
      ]
    },
    {
      "cell_type": "code",
      "metadata": {
        "id": "fSE80t58AMSm",
        "colab": {
          "base_uri": "https://localhost:8080/"
        },
        "outputId": "0e228c39-bd17-45d0-eecf-3da27b1ff4cf"
      },
      "source": [
        "print(x[:, 1])"
      ],
      "execution_count": 14,
      "outputs": [
        {
          "output_type": "stream",
          "name": "stdout",
          "text": [
            "tensor([ 0.7391,  0.0511, -2.3478,  0.4572,  0.1943])\n"
          ]
        }
      ]
    },
    {
      "cell_type": "markdown",
      "metadata": {
        "id": "mp9zaxscAMSo"
      },
      "source": [
        "リサイズ: tensorの形を変えたい場合は ``torch.view``を使用してください:\n",
        "\n"
      ]
    },
    {
      "cell_type": "code",
      "metadata": {
        "id": "D0bTxzDvAMSo",
        "colab": {
          "base_uri": "https://localhost:8080/"
        },
        "outputId": "639faed5-0f70-4b5d-86b1-5e97b6a45ef9"
      },
      "source": [
        "x = torch.randn(4, 4)\n",
        "y = x.view(16)\n",
        "z = x.view(-1, 8)  #  -1を指定すると他に設定した次元の値から自動で計算\n",
        "print(x.size(), y.size(), z.size())"
      ],
      "execution_count": 16,
      "outputs": [
        {
          "output_type": "stream",
          "name": "stdout",
          "text": [
            "torch.Size([4, 4]) torch.Size([16]) torch.Size([2, 8])\n"
          ]
        }
      ]
    },
    {
      "cell_type": "markdown",
      "metadata": {
        "id": "0IqvUIL6AMSq"
      },
      "source": [
        "``.item()``を使用すると、要素を1つしか持たないtensorから、中身の数値だけを取り出すことができます。\n"
      ]
    },
    {
      "cell_type": "code",
      "metadata": {
        "id": "PB3tzjNzAMSr",
        "colab": {
          "base_uri": "https://localhost:8080/"
        },
        "outputId": "a5bdc9cd-6c34-463e-bf47-54c9e8e251a0"
      },
      "source": [
        "x = torch.randn(1)\n",
        "print(x)\n",
        "print(x.item())"
      ],
      "execution_count": 17,
      "outputs": [
        {
          "output_type": "stream",
          "name": "stdout",
          "text": [
            "tensor([2.5445])\n",
            "2.5444984436035156\n"
          ]
        }
      ]
    },
    {
      "cell_type": "markdown",
      "metadata": {
        "id": "tyOawt7EdfJx"
      },
      "source": [
        "**参考:**\n",
        "\n",
        "PyTorchでは、転置、インデックシング、スライシング、演算処理、線形代数、乱数生成などの100を超える機能が提供されています。\n",
        "\n",
        "詳しくは[こちらのページ](https://pytorch.org/docs/stable/torch.html)をご覧ください。"
      ]
    },
    {
      "cell_type": "markdown",
      "metadata": {
        "id": "CEj9q_ktAMSt"
      },
      "source": [
        "NumPyとの接続\n",
        "------------\n",
        "\n",
        "PyTorchではTorch TensorからNumPy Arrayへの変換やその逆を簡単に行うことできます。\n",
        "\n",
        "（Torch TensorがCPU上にある場合）Torch TensorとNumPy Arrayはメモリ上の同じ領域に配置され、変換することができます。\n",
        "\n"
      ]
    },
    {
      "cell_type": "markdown",
      "metadata": {
        "id": "BloXeu20gJS6"
      },
      "source": [
        "Torch Tensorから NumPy Arrayへの変換\n",
        "--------\n",
        "\n",
        "\n"
      ]
    },
    {
      "cell_type": "code",
      "metadata": {
        "id": "ISvp-esTAMSt",
        "colab": {
          "base_uri": "https://localhost:8080/"
        },
        "outputId": "5ca5efbb-e746-4ee3-b8fc-63eea94a7bf5"
      },
      "source": [
        "a = torch.ones(5)\n",
        "print(a)"
      ],
      "execution_count": 18,
      "outputs": [
        {
          "output_type": "stream",
          "name": "stdout",
          "text": [
            "tensor([1., 1., 1., 1., 1.])\n"
          ]
        }
      ]
    },
    {
      "cell_type": "code",
      "metadata": {
        "id": "mLkdbh4kAMSw",
        "colab": {
          "base_uri": "https://localhost:8080/"
        },
        "outputId": "a339c74a-9586-4f79-9eb9-4472c57cc88a"
      },
      "source": [
        "b = a.numpy()\n",
        "print(b)"
      ],
      "execution_count": 20,
      "outputs": [
        {
          "output_type": "stream",
          "name": "stdout",
          "text": [
            "[1. 1. 1. 1. 1.]\n"
          ]
        }
      ]
    },
    {
      "cell_type": "markdown",
      "metadata": {
        "id": "HAlxNlTbAMSz"
      },
      "source": [
        "メモリを共有しているため、Torch Tensorの値がNumPy Arrayにも反映されることが分かります。\n",
        "\n"
      ]
    },
    {
      "cell_type": "code",
      "metadata": {
        "id": "PkcVVOa8AMSz",
        "colab": {
          "base_uri": "https://localhost:8080/"
        },
        "outputId": "c1c73dc9-7e8d-4435-8336-5d7dbf1f7a57"
      },
      "source": [
        "a.add_(1)\n",
        "print(a)\n",
        "print(b)"
      ],
      "execution_count": 21,
      "outputs": [
        {
          "output_type": "stream",
          "name": "stdout",
          "text": [
            "tensor([2., 2., 2., 2., 2.])\n",
            "[2. 2. 2. 2. 2.]\n"
          ]
        }
      ]
    },
    {
      "cell_type": "markdown",
      "metadata": {
        "id": "ySjxVQRgAMS1"
      },
      "source": [
        "NumPy ArrayからTorch Tensorへの変換\n",
        "---------\n",
        "\n",
        "NumPy ArrayからTorch Tensorへの変換も、容易に可能です。\n",
        "\n"
      ]
    },
    {
      "cell_type": "code",
      "metadata": {
        "id": "26bv0CakAMS2",
        "colab": {
          "base_uri": "https://localhost:8080/"
        },
        "outputId": "36e1910c-204d-41e4-94ee-8fb3af3d3e13"
      },
      "source": [
        "import numpy as np\n",
        "a = np.ones(5)\n",
        "b = torch.from_numpy(a)\n",
        "np.add(a, 1, out=a)\n",
        "print(a)\n",
        "print(b)"
      ],
      "execution_count": 22,
      "outputs": [
        {
          "output_type": "stream",
          "name": "stdout",
          "text": [
            "[2. 2. 2. 2. 2.]\n",
            "tensor([2., 2., 2., 2., 2.], dtype=torch.float64)\n"
          ]
        }
      ]
    },
    {
      "cell_type": "markdown",
      "metadata": {
        "id": "u1HZ1yg4AMS4"
      },
      "source": [
        "CharTensorを除き、CPU上のすべてのTensorはNumPyへの変換、およびその逆（NumpyからTensor）に対応しています。\n"
      ]
    },
    {
      "cell_type": "markdown",
      "metadata": {
        "id": "ekIwcDFzY8i1"
      },
      "source": [
        "CUDA Tensors（CUDA テンソル）\n",
        "------------\n",
        "\n",
        "tensorは ``.to`` メソッドを使用することであらゆるデバイス上のメモリへと移動させることができます。"
      ]
    },
    {
      "cell_type": "code",
      "metadata": {
        "id": "2STSTspeAMS4",
        "colab": {
          "base_uri": "https://localhost:8080/"
        },
        "outputId": "ab180aab-01c8-4765-b5c8-20df4b9660fc"
      },
      "source": [
        "# let us run this cell only if CUDA is available\n",
        "# We will use ``torch.device`` objects to move tensors in and out of GPU\n",
        "if torch.cuda.is_available():\n",
        "    device = torch.device(\"cuda\")          # a CUDA device object\n",
        "    y = torch.ones_like(x, device=device)  # directly create a tensor on GPU\n",
        "    x = x.to(device)                       # or just use strings ``.to(\"cuda\")``\n",
        "    z = x + y\n",
        "    print(z)\n",
        "    print(z.to(\"cpu\", torch.double))       # ``.to`` can also change dtype together!\n",
        "\n",
        "\n",
        "# 日本語訳注：\n",
        "# tensor([1.8299], device='cuda:0')\n",
        "# tensor([1.8299], dtype=torch.float64)\n",
        "# のような出力（値は変わります）がセルのあとに表示されれば、GPUでのCUDAでのテンソル計算が成功しています。\n",
        "# もし、何も表示されなければ、Google ColaroboratoryがGPU使用モードになっていないので、\n",
        "# 下のセルの説明を読んで、GPUを使用可能な状態にしてみてください。"
      ],
      "execution_count": 23,
      "outputs": [
        {
          "output_type": "stream",
          "name": "stdout",
          "text": [
            "tensor([3.5445], device='cuda:0')\n",
            "tensor([3.5445], dtype=torch.float64)\n"
          ]
        }
      ]
    },
    {
      "cell_type": "markdown",
      "metadata": {
        "id": "wnzN5tsWMCZa"
      },
      "source": [
        "（日本語訳注）\n",
        "\n",
        "Google ColaboratoryでCUDA、すなわちGPUを使用可能にするには、上部メニューの「ランタイム」を選択し、「ランタイムのタイプを変更」で、「ハードウェア アクセラレータ」にGPUを選択します。\n",
        "\n",
        "\n",
        "上記で、現在のランタイムの環境を確認し、GPUでなければ、GPUに設定して、上記セルを実行してみてください。"
      ]
    }
  ]
}